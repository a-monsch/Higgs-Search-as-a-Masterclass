{
 "cells": [
  {
   "attachments": {},
   "cell_type": "markdown",
   "metadata": {},
   "source": [
    "# eine kurze Einführung in Python\n",
    "---"
   ]
  },
  {
   "cell_type": "markdown",
   "metadata": {},
   "source": [
    "Dieses Notebook soll Dich in die Welt der Programmiersprache Python einführen und Dir dabei helfen, sie besser kennenzulernen.\n",
    "\n",
    "Aber zuerst: Warum eigentlich Python?\n",
    "\n",
    "> \"Python, [...] eine universelle, üblicherweise interpretierte, höhere Programmiersprache[, die den] Anspruch [hat], **einen gut lesbaren, knappen Programmierstil** zu fördern.\" - [Wikipedia](https://de.wikipedia.org/wiki/Python_%28Programmiersprache%29)\n",
    "\n",
    "Python zeichnet sich durch seine Benutzerfreundlichkeit und Lesbarkeit aus, was es zu einer idealen Programmiersprache für Anfänger macht. Die klare und konsistente Syntax (Regeln zur Formulierung einer Programmiersprache) ermöglicht es, grundlegende Konzepte präzise und verständlich zu vermitteln. Dies ist besonders hilfreich, weil Du Dich weniger auf die Feinheiten der Sprache konzentrieren musst und stattdessen Deine Energie auf das Erlernen der Programmierlogik fokussieren kannst.\n",
    "\n",
    "Da Python gut lesbar ist und mit wenig zusätzlichen Zeichen auskommt, ist es einfach bereits erstellten Code zu bearbeiten oder neue Funktionen hinzuzufügen. Die Flexibilität von Python erlaubt es Dir, auf bereits vorhandenem Wissen aufzubauen und zügig Ergebnisse zu erzielen.\n",
    "\n",
    "In diesem Notebook wirst Du schrittweise Python und seine Konzepte kennenlernen, begleitet von kleinen Übungsaufgaben. Diese Aufgaben bieten Dir die Möglichkeit, Dein erworbenes Wissen anzuwenden und zu vertiefen."
   ]
  },
  {
   "attachments": {},
   "cell_type": "markdown",
   "metadata": {},
   "source": [
    "---"
   ]
  },
  {
   "cell_type": "markdown",
   "metadata": {},
   "source": [
    "Bevor wir starten, ein paar Anmerkungen zur aktuellen Umgebung, in der Du Dich gerade befindest: **Jupyter Notebook(s)**\n",
    "\n",
    "Traditionell müsste der Python-Code in einer `.py`-Datei gespeichert und mit einem Python-Interpreter-Programm ausgeführt werden. Dieses versteht den Python Code und gibt entsprechende Anweisungen an die CPU des Computers. \n",
    "\n",
    "Ein zentrales Werkzeug in diesem Kurs ist das Jupyter Notebook, welches auch abseits von Tutorials auch in der Datensanalyse verwendet wird. Es bietet eine interaktive und flexible Plattform, um Python-Code zu schreiben und gleichzeitig Text, Visualisierungen und Erklärungen zu integrieren. Die Stärke von Jupyter liegt in seiner Fähigkeit, Code in einzelnen Abschnitten (Zellen) auszuführen und sofortige Ergebnisse darzustellen. Dies ermöglicht ein schrittweises Lernen und Experimentieren, während Du gleichzeitig den Überblick über den gesamten Prozess behältst.\n",
    "\n",
    "Der grundlegende Baustein eines Jupyter Notebooks sind die Zellen. Du kannst Code oder auch Text in Zellen schreiben und dann die Zelle ausführen, um das Ergebnis zu sehen. Dies ermöglicht es, Code schrittweise zu entwickeln und zu testen. Du kannst auch Erklärungen, Anleitungen oder Gedanken festhalten.\n",
    "\n",
    "Diese Zelle ist ein Beispiel für solch eine Erklärung und wird im Rahmen der Jupyter Notebooks verwendet. Die Textgliederung wird im *Markdown*-Format geschrieben, welches es ermöglicht, einfache Textstrukturen zu erstellen. Durch Doppelklick in diese Zelle siehst Du den eingegebenen Text. Wenn Du `shift` + `enter` eingibst, wird die Zelle formatiert.\n"
   ]
  },
  {
   "attachments": {},
   "cell_type": "markdown",
   "metadata": {},
   "source": [
    "Die Oberfläche kann komplett mit der Maus bedient werden. Für jeden, der gerne effizient Tasten-Shortcuts nutzen möchte, findet in der folgenden Tabelle die entsprechenden Befehle:\n",
    "\n",
    "**Algemein** (funktioniert sowohl im Editier- als auch im Kommandomodus):\n",
    " Befehl            | Aktion                                           |\n",
    ":------------------|:-------------------------------------------------|\n",
    " `esc`             | verlässt Editiermodus, geht in den Kommandomodus |\n",
    " `enter`           | geht in Editiermodus                             |                       \n",
    " `shift` + `enter` | führt Zelle aus und geht zur nächsten            |\n",
    "\n",
    "\n",
    "**Editiermodus:**\n",
    " Befehl            | Aktion                                           |\n",
    ":------------------|:-------------------------------------------------|\n",
    " `ctrl` + `enter`  | führt Zelle aus, geht in den Kommandomodus       |\n",
    "\n",
    "**Kommandomodus:**\n",
    " Befehl            | Aktion                                           |\n",
    ":------------------|:-------------------------------------------------|\n",
    " `d,d`             | löscht aktuelle Zelle                            |\n",
    " `z`               | macht Zellenlöschung rückgängig                  |\n",
    " `a`               | fügt neue Zelle überhalb der aktuellen ein       |\n",
    " `b`               | fügt neue Zelle unterhalb der aktuellen ein      |\n",
    " `m`               | ändert zu Markdown                               |\n",
    " `y`               | ändert zu Code                                   |\n",
    "\n",
    "Die hier erstellte Tabelle wurde im *Markdown*-Format erstellt. Um zu sehen, wie diese unformatierte Tabelle aussieht, kannst Du die Zelle doppelklicken (oder `Enter` drücken)."
   ]
  },
  {
   "cell_type": "markdown",
   "metadata": {},
   "source": [
    "Damit kannst Du in das Notebook Deine eigenen Notizen und Kommentare einfügen, die Deinem Verständnis helfen können. Außerdem wirst Du Code-Fragmente ergänzen und eigenständig erstellen können. Deine bearbeiteten Notebooks kannst Du (zusammen mit allen Daten) nach dem Science Camp mitnehmen und sie auch zu Hause ausführen (oder als exportierte PDF betrachten).\n"
   ]
  },
  {
   "attachments": {},
   "cell_type": "markdown",
   "metadata": {},
   "source": [
    "---"
   ]
  },
  {
   "cell_type": "markdown",
   "metadata": {},
   "source": [
    "Und damit zurück zu Python:\n",
    "\n",
    "Genauso wie das Erlernen von Sprachen wie Englisch beginnen wir mit den Grundlagen, die vergleichbar sind mit der Struktur von Sätzen in einer Sprache - der Sprachsyntax. Die folgenden Abschnitte werden Dir einen Großteil des Alphabets in Form von Operatoren, Variablen und Datentypen sowie die Grammatik näherbringen.\n",
    "\n",
    "Beginnen wir hiermit mit dem klassischen Beispiel: dem Grußwort in der neuen Sprache:"
   ]
  },
  {
   "cell_type": "code",
   "execution_count": null,
   "metadata": {},
   "outputs": [],
   "source": [
    "print(\"Hello World\")"
   ]
  },
  {
   "cell_type": "markdown",
   "metadata": {},
   "source": [
    "Hierbei wird der Funktion `print` die Zeichenkette (`string`) `\"Hello World\"` übergeben.  \n",
    "\n",
    "Von `\"\"` bzw. `''` eingeschlossene Ausdrücke werden als **Strings** bezeichnet. `print` ist eine **Funktion**, erkennbar an den nachfolgenden Klammern, die die Zeichenkette `\"Hello World\"` umschließen. Funktionen und Strings werden wir im Laufe des Notebooks noch begegnen. Python kommt von sich aus mit einer breiten Sammlung an Standardwerkzeugen (Bibliotheken und Funktionen), die dafür sorgen, dass nicht alles von Grund auf erstellt werden muss und man auf bereits erstellte Lösungen zurückgreifen kann. (\"Batterien sind im Lieferumfang enthalten\")."
   ]
  },
  {
   "attachments": {},
   "cell_type": "markdown",
   "metadata": {},
   "source": [
    "## Kommentare\n",
    "---"
   ]
  },
  {
   "cell_type": "code",
   "execution_count": null,
   "metadata": {},
   "outputs": [],
   "source": [
    "print(\"Heute ist Dienstag\")  # Ausgabe des heutigen Wochentages\n",
    "\n",
    "# Das ist ein Kommentar\n",
    "#\n",
    "# Kommentare haben keinen Einfluss auf das Programm beim Ausführen\n",
    "# Jedoch können sie für andere Programmierer (oder sich selbst in \n",
    "# einigen Monaten) hilfreich sein, um den Code zu verstehen ;).\n",
    "\n",
    "# Üblicherweise wird mithilfe von Kommentaren auf Feinheiten im Code hingewiesen."
   ]
  },
  {
   "attachments": {},
   "cell_type": "markdown",
   "metadata": {},
   "source": [
    "## Code Struktur: Blöcke\n",
    "---"
   ]
  },
  {
   "cell_type": "markdown",
   "metadata": {},
   "source": [
    "Die Einrückungen verbessern die Lesbarkeit! Sie sind in fast jeder Programmiersprache *empfohlen*. *Python* 'zwingt' jedoch die Nutzer und Nutzerinnen den Code direkt übersichtlich zu gestalten und Einrückungen zu verwenden.\n",
    "\n",
    "Blöcke werden hier nicht durch Klammern, sondern durch die gleiche Einrückung definiert. So wird automatisch auch ein übersichtlicher Code produziert.\n",
    "\n",
    "Ein häufiges Beispiel für einen Block sind Anweisungen wie `while`- oder `for`-Schleifen, die aus einem Anweisungskopf und einem Anweisungskörper bestehen, oder bedingte `if`-Anweisungen, die für Verzweigungen im Code geeignet sind. Die Details dazu gibt es weiter unten, der Hinweis für die Einrückungen steht jedoch schon hier. Die Struktur kann dann wie folgt aussehen:\n",
    "\n",
    "```python\n",
    "Anweisungskopf:\n",
    "    Erste Anweisung\n",
    "    Zweite Anweisung\n",
    "Dritte Anweisung\n",
    "```\n",
    "\n",
    "Besonders wichtig für solche Anweisungen sind die Doppelpunkte am Ende des Kopfes und eine gleichmäßige Einrückung der Anweisungen. [PEP 8*](https://www.python.org/dev/peps/pep-0008/) empfiehlt die Verwendung von __vier Leerzeichen__ pro Einrückungsebene.\n",
    "\n",
    "\\**Zusatzinfo: In diesen PEPs (Python Enhancement Proposal, dt.: Python verbesserungs Vorschläge) sind die Grundlegenden Regeln der Python-Prgorammiersprache festgelegt. Hier schlagen Entwickler neue Funktionalitäten und Fähigkeiten der Pyhton-Programmiersprache vor und geben Tipps wie man guten Python-Code schreibt.*"
   ]
  },
  {
   "cell_type": "markdown",
   "metadata": {},
   "source": [
    "## (Numerische) Datentypen und Operatoren\n",
    "---"
   ]
  },
  {
   "cell_type": "markdown",
   "metadata": {},
   "source": [
    "Lass uns mit einem einfachen Beispiel beginnen: Das Ziel ist, den Computer (in diesem Fall mit Python) eine Addition durchführen zu lassen. Dies soll interaktiv geschehen, indem der Benutzer zwei Zahlen eingibt. In einer Ausgabe wird die Summe dieser beiden Zahlen angezeigt.\n",
    "\n",
    "Das Äquivalent zur `print()` Funktion für die Ausgabe ist die `input()` Funktion für die Eingabe. Hiermit kann der Benutzer zwei Zahlen festlegen. Der dazugehörige Code lässt sich zunächst wie folgt realisieren:"
   ]
  },
  {
   "cell_type": "code",
   "execution_count": null,
   "metadata": {},
   "outputs": [],
   "source": [
    "# Ausführen und den Variablen a und b einen Wert zuweisen:\n",
    "\n",
    "a = input(\"Die erste Zahl lautet: \")  # Abfrage der ersten Zahl\n",
    "b = input(\"Die zweite Zahl lautet: \")  # Abfrage der zweiten Zahl\n",
    "\n",
    "print(f\"a wurde {a} zugewiesen\")\n",
    "print(f\"b wurde {b} zugewiesen\")"
   ]
  },
  {
   "cell_type": "markdown",
   "metadata": {},
   "source": [
    "Damit hätten wir den ersten Schritt erledigt. Das `=` ist hierbei ein Zuweisungsoperator und entspricht __nicht__ dem mathematischen '='; er weist der zuvor gewählten Variable (links) einen Wert (rechts) zu.\n",
    "\n",
    "Die Variablennamen (hier `a` und `b`), denen die beiden Werte zugewiesen werden, können frei gewählt werden. Allerdings dürfen Variablennamen nicht mit einer Zahl beginnen.\n",
    "\n",
    "Im Unterschied zum \"Hello World\" Beispiel steht das `f` vor dem String und `{a}` bzw. `{b}` im Inneren. Ein String mit dem vorangestellten `f` wird als **\"formatierter\" String** bezeichnet. `{}` dient als Platzhalter für beliebige Variablen oder logische Ausdrücke. Der Vorteil dieser Strings besteht darin, dass die Variablen automatisch zu einen String konvertiert und zusammengesetzt werden und damit die Lesbarkeit erhalten bleibt. Aus diesem Grund wird im Folgenden oft darauf zurückgegriffen."
   ]
  },
  {
   "cell_type": "markdown",
   "metadata": {},
   "source": [
    "Lass uns mit dem Beispiel fortfahren. Den Variablen `a` und `b` wurden bestimmte Werte zugewiesen. Diese können analog zur Mathematik mittels `+` Operators addiert werden. Das Ergebnis wird einer neuen Variable `c` zugewiesen."
   ]
  },
  {
   "cell_type": "code",
   "execution_count": null,
   "metadata": {},
   "outputs": [],
   "source": [
    "c = a + b"
   ]
  },
  {
   "cell_type": "code",
   "execution_count": null,
   "metadata": {},
   "outputs": [],
   "source": [
    "# Geben die Variable c mithilfe von print() aus."
   ]
  },
  {
   "cell_type": "markdown",
   "metadata": {},
   "source": [
    "Hoppla, hier ist etwas schiefgelaufen. Die Frage ist nur: Was ist passiert? Denn für Python sind keine Probleme aufgetreten.\n",
    "\n",
    "Offensichtlich verhält sich das Programm nicht wie von uns beabsichtigt. Unsere Aufgabe ist es nun, den Fehler zu finden!\n",
    "\n",
    "Für diejenigen, die noch keine Berührung mit dem Programmieren hatten, sei an dieser und vielen weiteren nachfolgenden Stellen gesagt: Lasst Euch bei auftauchenden Fehlern nicht entmutigen. Die Fehlersuche gehört oft zu einem nicht zu vernachlässigbaren Teil des Programmierens.\n",
    "\n",
    "Wichtig ist es, dieses Verhalten – in diesem Fall sogar leicht erklärbar – zu verstehen, Schlüsse daraus zu ziehen und im besten Fall nicht mehr darüber zu stolpern. Oder noch besser, eine Erklärung griffbereit zu haben, sobald ein ähnliches oder gleiches Verhalten beobachtet wird. \n",
    "\n",
    "(Meistens hilft auch das googeln der Fehlermeldung schon aus um eine Lösung zu finden.)\n"
   ]
  },
  {
   "attachments": {},
   "cell_type": "markdown",
   "metadata": {},
   "source": [
    "Für eine Analyse ist es in diesem Fall interessant den __Typ__ von der Variable `a` oder `b` zu betrachten. Hierzu eignet sich die Funktion `type()` die das zu betrachtende Objekt als Argument beinhaltet."
   ]
  },
  {
   "cell_type": "code",
   "execution_count": null,
   "metadata": {},
   "outputs": [],
   "source": [
    "print(f\"Die Variable a ist vom Typ {type(a)} und hat den Wert {a}\")\n",
    "print(f\"Die Variable b ist vom Typ {type(b)} und hat den Wert {b}\")\n",
    "print(f\"Die Variable c ist vom Typ {type(c)} und hat den Wert {c}\")"
   ]
  },
  {
   "cell_type": "markdown",
   "metadata": {},
   "source": [
    "`str` steht für String – also eine Zeichenkette. Allerdings war die Erwartung an `a` und `b`, dass es sich um Zahlen handelt. Strings verhalten sich anders als Zahlen, wenn sie mit dem Operator `+` addiert werden: Sie werden miteinander verkettet.\n",
    "\n",
    "Um weitere Informationen über Strings, andere im Kapitel vorgestellte Datentypen oder Funktionen zu erhalten, ist in Python die Funktion `help()` implementiert:\n"
   ]
  },
  {
   "cell_type": "markdown",
   "metadata": {},
   "source": [
    "Die Ausgabe (`output`) von `help(str)` enthält sehr viele Informationen – im Moment vielleicht sogar zu viele. Für zukünftige Fragestellungen ist es jedoch nie verkehrt, hier einen Blick zu werfen, da oft auch sehr kurze Beispiele zur Nutzung und Anwendung bereitgestellt werden können.\n",
    "\n",
    "Wir beschränken uns vorerst auf die kurze Erklärung, insbesondere auf die Zeile mit `str(object='') -> str`. Die nachfolgenden Beschreibungen sind weniger wichtig. Es ist vorteilhaft, sich zu merken, dass mithilfe von `help()` die Dokumentation für nahezu alles, was in Python implementiert ist, abgerufen werden kann.\n"
   ]
  },
  {
   "cell_type": "code",
   "execution_count": null,
   "metadata": {},
   "outputs": [],
   "source": [
    "# help(str)  # Entferne das erste Kommentarzeichen und führe die Zelle aus um die Ausgabe von help(str) zu sehen"
   ]
  },
  {
   "cell_type": "markdown",
   "metadata": {},
   "source": [
    "Zurück zur Addition. Offensichtlich handelt es sich bei den Werten, die den Variablen `a` und `b` durch die `input()` Funktion zugewiesen wurden, um Strings – einen der Datentypen in Python. Um herauszufinden, welchen Datentyp Zahlen haben können, kann erneut die Funktion `type()` verwendet und mit `print()` ausgegeben werden.\n"
   ]
  },
  {
   "cell_type": "code",
   "execution_count": null,
   "metadata": {},
   "outputs": [],
   "source": [
    "print(type(1))\n",
    "print(type(1.1))\n",
    "print(type(1+2j))"
   ]
  },
  {
   "cell_type": "markdown",
   "metadata": {},
   "source": [
    "Es wird unterschieden zwischen __ganzen Zahlen__ (`int`), __Gleitkommazahlen__ (`float`) und __komplexen Zahlen__ (`complex`) (falls Dir diese bereits begegnet sind). Die `help()` Funktion hat vom Aufbau her Ähnlichkeit mit der Funktion für Strings:"
   ]
  },
  {
   "cell_type": "code",
   "execution_count": null,
   "metadata": {},
   "outputs": [],
   "source": [
    "# help(type(1.1))"
   ]
  },
  {
   "cell_type": "markdown",
   "metadata": {},
   "source": [
    "Die Zeile `float(x=0)` sowie `Convert a string or number to a floating point number, if possible.` verrät die notwendige Vorgehensweise. Die für uns notwendige Ergänzung sieht daher wie folgt aus:"
   ]
  },
  {
   "cell_type": "code",
   "execution_count": null,
   "metadata": {},
   "outputs": [],
   "source": [
    "a_new = input(\"Die erste Zahl lautet: \")\n",
    "b_new = input(\"Die zweite Zahl lautet: \")\n",
    "\n",
    "# Konvertierung str->float/complex\n",
    "a_converted, b_converted = float(a_new), float(b_new)  # Zuweisung von mehreren Variablen kann auch in einer Zeile Erfolgen\n",
    "\n",
    "print(f\"Die Summe aus {a_new} und {b_new} ist {a_converted + b_converted}\")  # Platzhalter in f-Strings akzeptieren auch Ausdrücke!"
   ]
  },
  {
   "cell_type": "markdown",
   "metadata": {},
   "source": [
    "...und scheint nun das gewünschte Ergebnis auszugeben. "
   ]
  },
  {
   "attachments": {},
   "cell_type": "markdown",
   "metadata": {},
   "source": [
    "## Mathematische Operationen\n",
    "---"
   ]
  },
  {
   "attachments": {},
   "cell_type": "markdown",
   "metadata": {},
   "source": [
    "Bleiben wir zunächst einmal bei Zahlen. Der __Operator__ für die Addition wurde bereits vorgestellt. Zur Vollständigkeit:"
   ]
  },
  {
   "cell_type": "code",
   "execution_count": null,
   "metadata": {},
   "outputs": [],
   "source": [
    "print(1 + 1)"
   ]
  },
  {
   "attachments": {},
   "cell_type": "markdown",
   "metadata": {},
   "source": [
    "Die Subtraktion (`-`), Multiplikation (`*`) und Division (`/`) sind weitere __Rechenoperationen__. Python konvertiert das Ergebnis automatisch in `float` oder `complex`, sobald eine der verwendeten Zahlen selbst `float` oder `complex` ist, oder wenn das Ergebnis nicht durch eine `int`-Darstellung ausreichend abgedeckt werden kann (das Ergebnis ist immer komplex, sobald eines der Elemente selbst komplex ist).\n"
   ]
  },
  {
   "cell_type": "code",
   "execution_count": null,
   "metadata": {},
   "outputs": [],
   "source": [
    "print(3 - 5.0)\n",
    "print(3 * 3, 3.0 * 3, 2 / 5) \n",
    "print(4 / 3)"
   ]
  },
  {
   "cell_type": "markdown",
   "metadata": {},
   "source": [
    "Eine explizite Konvertierung, beispielsweise in ein `int`, kann wie oben durch `int(<zahl>)` erfolgen. In diesem Fall wird immer abgerundet!\n"
   ]
  },
  {
   "cell_type": "code",
   "execution_count": null,
   "metadata": {},
   "outputs": [],
   "source": [
    "# Anmerkung: Jupyter Notebook versucht immer die letzte Zeile in der Zelle darzustellen, \n",
    "# sofern diese nicht explizit eine Zuweisung ist.\n",
    "int(4 / 3)"
   ]
  },
  {
   "attachments": {},
   "cell_type": "markdown",
   "metadata": {},
   "source": [
    "Die Potenz wird durch `**` ausgedrückt und $\\cdot 10^{X}$ durch `eX`."
   ]
  },
  {
   "cell_type": "code",
   "execution_count": null,
   "metadata": {},
   "outputs": [],
   "source": [
    "3 ** 3, 1.2e2, 3 ** (-3), 1e-4, 5.5 * 10 ** (2)"
   ]
  },
  {
   "attachments": {},
   "cell_type": "markdown",
   "metadata": {},
   "source": [
    "Ebenfalls ist die ganzzahlige Division ohne den Rest (`//`) und den Rest der ganzzahligen Division (`%`) möglich:"
   ]
  },
  {
   "cell_type": "code",
   "execution_count": null,
   "metadata": {},
   "outputs": [],
   "source": [
    "10 // 3, 10 % 3"
   ]
  },
  {
   "cell_type": "markdown",
   "metadata": {},
   "source": [
    "Zu jedem der Operatoren existieren die `+=`, `-=`, `*=` ... Varianten, die eine vereinfachte und verkürzte Darstellung ermöglichen. Hierbei werden Ausdrücke z.B. der Form `variable = variable * (1 + other_variable)` zu `variable *= 1 + other_variable` usw. verkürzt."
   ]
  },
  {
   "cell_type": "code",
   "execution_count": null,
   "metadata": {},
   "outputs": [],
   "source": [
    "a = 1\n",
    "a_very_long_and_expressive_variable_name_for_variable_a = 1\n",
    "\n",
    "a = a + 1\n",
    "a_very_long_and_expressive_variable_name_for_variable_a += 1\n",
    "\n",
    "# eine einfache Frage ob die beiden variablen gleich sind (als ein Vorgriff zum nächsten Abschnitt):\n",
    "print(f\"Sind diese beiden Variablen gleich?:  {a == a_very_long_and_expressive_variable_name_for_variable_a}\")"
   ]
  },
  {
   "cell_type": "markdown",
   "metadata": {},
   "source": [
    "Dir mag es aufgefallen sein, dass wir hier erneut die Variable `a` verwenden und ihr einen anderen Wert (und sogar einen anderen Datentyp) zuweisen. Dies ist in Python möglich! In anderen Programmiersprachen ist eine Neuzuweisung zwar erlaubt, der Datentyp muss jedoch derselbe bleiben. Python bietet die Freiheit (fast) alles zu tun, sogar das Überschreiben der mitgelieferten Funktionen. So kann die Zuweisung `print = \"The print function was overwritten\"` der zuvor genutzten `print`-Funktion einen String zuweisen. Dies ist in der Regel nicht erwünscht und kann zu möglichen Problemen führen. Aus diesem Grund sollte die Wahl der Variablennamen wohlbedacht sein!\n"
   ]
  },
  {
   "cell_type": "code",
   "execution_count": null,
   "metadata": {},
   "outputs": [],
   "source": [
    "# print = \"The print function was overwritten\""
   ]
  },
  {
   "cell_type": "markdown",
   "metadata": {},
   "source": [
    "Falls Du die obige Zelle entkommentiert und ausgeführt hast, starte bitte das Jupyter Notebook neu(`Restart the Kernel` in der Toolbar drücken). Die originale `print`-Funktion wird noch an einigen Stellen gebraucht ;).\n"
   ]
  },
  {
   "attachments": {},
   "cell_type": "markdown",
   "metadata": {},
   "source": [
    "## Logische Operationen"
   ]
  },
  {
   "cell_type": "markdown",
   "metadata": {},
   "source": [
    "Die Frage, ob zwei Variablen gleich sind, kann mittels `==` überprüft werden. Hierbei wird die Abfrage mit `True` (wahr) oder `False` (falsch) evaluiert. Die Frage nach Ungleichheit wird mittels `!=` ausgedrückt.\n"
   ]
  },
  {
   "cell_type": "code",
   "execution_count": null,
   "metadata": {},
   "outputs": [],
   "source": [
    "a, b = 3, 11\n",
    "are_equal = a == b"
   ]
  },
  {
   "cell_type": "markdown",
   "metadata": {},
   "source": [
    "Ebenso kann analog zur Mathematik die Frage gestellt werden, ob `a` größer/kleiner oder größer gleich/kleiner gleich `b` ist."
   ]
  },
  {
   "cell_type": "code",
   "execution_count": null,
   "metadata": {},
   "outputs": [],
   "source": [
    "print(f\"a > b: {a > b}, a <= b: {a <= b}, a == b: {a == b}, a != b: {a != b}\")"
   ]
  },
  {
   "cell_type": "markdown",
   "metadata": {},
   "source": [
    "Als kleine Übung hierzu:\n",
    "\n",
    "<div class=\"alert alert-info\">       \n",
    "Aufgabe: \n",
    "    \n",
    "Erstelle einen logischen Ausdruck, der folgendes auswertet: Ist der Rest aus der Division von `a` durch `b` größer als 2 und ist die Differenz zwischen `a` und 5 größer als 0?\n",
    "</div>\n"
   ]
  },
  {
   "cell_type": "code",
   "execution_count": null,
   "metadata": {},
   "outputs": [],
   "source": [
    "# Your code goes here."
   ]
  },
  {
   "cell_type": "markdown",
   "metadata": {},
   "source": [
    "## Container\n",
    "---"
   ]
  },
  {
   "cell_type": "markdown",
   "metadata": {},
   "source": [
    "### Strings (Zeichenketten)\n",
    "---"
   ]
  },
  {
   "cell_type": "markdown",
   "metadata": {},
   "source": [
    "In den vorherigen Beispielen kamen bereits Zeichenketten vor. Ähnlich wie bei den Zahlen können Strings auch explizit initialisiert und einer Variable zugewiesen werden:"
   ]
  },
  {
   "cell_type": "code",
   "execution_count": null,
   "metadata": {},
   "outputs": [],
   "source": [
    "a = \"Hello\"\n",
    "b = \"World\"\n",
    "space = \" \"\n",
    "empty_string = \"\""
   ]
  },
  {
   "cell_type": "markdown",
   "metadata": {},
   "source": [
    "Das Verhalten von Strings unter Verwendung von Operatoren unterscheidet sich, wie bereits am Beispiel der Addition dargestellt, von dem Verhalten der Zahlen. Die Addition führt zur Verkettung, während die Multiplikation den entsprechenden String mehrfach wiederholt und mit dem vorhandenen String verkettet. Hierzu folgt eine kleine Demonstration:\n"
   ]
  },
  {
   "cell_type": "code",
   "execution_count": null,
   "metadata": {},
   "outputs": [],
   "source": [
    "c = a + space + b\n",
    "d = (a + space) * 2 + b\n",
    "print(c)\n",
    "print(d)"
   ]
  },
  {
   "cell_type": "markdown",
   "metadata": {},
   "source": [
    "__Achtung__: Nicht alle Operatoren sind für alle Datentypen gleich oder überhaupt implementiert:"
   ]
  },
  {
   "cell_type": "code",
   "execution_count": null,
   "metadata": {},
   "outputs": [],
   "source": [
    "a - b"
   ]
  },
  {
   "cell_type": "markdown",
   "metadata": {},
   "source": [
    "Wenn wir in unserem Beispiel eine Differenz berechnen wollten, würden wir uns direkt mit einer Fehlermeldung konfrontiert sehen. Der zuvor vielleicht nicht offensichtliche Schritt, `type()` einer der Variablen zu betrachten, erscheint in diesem Fall näherliegend. Beide Herangehensweisen haben ihre Berechtigung. Während der __Interpreter__ (der den Python evaluiert und ausführt) bei `str - str` einen `TypeError` ausgibt und darauf hinweist, dass die Subtraktion zwischen Strings nicht unterstützt wird, passiert dies bei `str + str` nicht.\n",
    "\n",
    "Doch zurück zu den Strings: Auf die einzelnen Elemente von `a` bzw. `b` (in diesem Fall wären das Buchstaben) kann mithilfe von `[<int>]` zugegriffen werden. Gestartet wird dabei mit `0`. Bei negativen Zahlen wird von hinten gezählt.\n"
   ]
  },
  {
   "cell_type": "code",
   "execution_count": null,
   "metadata": {},
   "outputs": [],
   "source": [
    "c[0], c[2], c[-1], c[-2]"
   ]
  },
  {
   "cell_type": "markdown",
   "metadata": {},
   "source": [
    "Die Indizierung beginnt bei `0` und endet bei der Maximallänge des Strings - 1. Die maximale Länge kann mithilfe der Funktion `len()` bestimmt werden:"
   ]
  },
  {
   "cell_type": "code",
   "execution_count": null,
   "metadata": {},
   "outputs": [],
   "source": [
    "print(f\"Der String c = '{c}' ist {len(c)} Zeichen lang\")"
   ]
  },
  {
   "cell_type": "markdown",
   "metadata": {},
   "source": [
    "Durch `:` innerhalb von `[]` kann ein Intervall ausgewählt werden. Zum Beispiel gibt `c[2:]` alle Zeichen nach dem dritten Eintrag (beginnend bei 0) aus. `c[2:-1]` gibt dagegen alle Zeichen zwischen dem dritten und dem vorletzten Zeichen im String aus:\n"
   ]
  },
  {
   "cell_type": "code",
   "execution_count": null,
   "metadata": {},
   "outputs": [],
   "source": [
    "c[2:], c[2:-2]"
   ]
  },
  {
   "cell_type": "markdown",
   "metadata": {},
   "source": [
    "Durch `::2` kann auf jedes zweite Element zugegriffen werden (beginnend bei 0). Gleiches lässt sich mit den Start- und Stop-Elementen aus der vorherigen Zelle beliebig kombinieren:"
   ]
  },
  {
   "cell_type": "code",
   "execution_count": null,
   "metadata": {},
   "outputs": [],
   "source": [
    "c[::2], c[2:-2:2]"
   ]
  },
  {
   "cell_type": "markdown",
   "metadata": {},
   "source": [
    "Mithilfe von `::-1` kann die Reihenfolge aller Elemente umgekehrt werden."
   ]
  },
  {
   "cell_type": "code",
   "execution_count": null,
   "metadata": {},
   "outputs": [],
   "source": [
    "c[::-1]"
   ]
  },
  {
   "cell_type": "markdown",
   "metadata": {},
   "source": [
    "In Programmen möchten wir unsere Daten manipulieren, z.B. durch eine Neuzuweisung nach bestimmten Kriterien. Eine explizite Zuweisung (`c[0] = \"B\"`) ist bei Strings jedoch nicht möglich. Hierzu gehen wir im nächsten Abschnitt auf den Datentyp der Listen ein. Es ist dagegen möglich, über die implementierten `find(<str>)`- und `replace(<old str>, <new str>)`-Methoden Substrings zu suchen und zu ersetzen."
   ]
  },
  {
   "cell_type": "code",
   "execution_count": null,
   "metadata": {},
   "outputs": [],
   "source": [
    "c[2] = \"A\""
   ]
  },
  {
   "cell_type": "code",
   "execution_count": null,
   "metadata": {},
   "outputs": [],
   "source": [
    "c.replace(\"Wo\", \"wO\")"
   ]
  },
  {
   "cell_type": "markdown",
   "metadata": {},
   "source": [
    "### Listen"
   ]
  },
  {
   "cell_type": "markdown",
   "metadata": {},
   "source": [
    "Eine Liste kann eine Folge von beliebigen Objekten enthalten (oder leer sein). Eine leere Liste wird durch `list()` oder `[]` initialisiert."
   ]
  },
  {
   "cell_type": "code",
   "execution_count": null,
   "metadata": {},
   "outputs": [],
   "source": [
    "an_empty_list = list()\n",
    "another_empty_list = []\n",
    "print(an_empty_list, another_empty_list)"
   ]
  },
  {
   "cell_type": "markdown",
   "metadata": {},
   "source": [
    "Wenn diese bereits zu Beginn Elemente enthalten soll, dann werden diese zwischen `[]` aufgelistet und mit einem Komma getrennt:"
   ]
  },
  {
   "cell_type": "code",
   "execution_count": null,
   "metadata": {},
   "outputs": [],
   "source": [
    "my_list = [1, \"Hello World\", 1.1]\n",
    "print(my_list)"
   ]
  },
  {
   "cell_type": "markdown",
   "metadata": {},
   "source": [
    "Der String und der Integer können durch das Kopieren der Ausgabe nochmals erstellt werden."
   ]
  },
  {
   "cell_type": "code",
   "execution_count": null,
   "metadata": {},
   "outputs": [],
   "source": [
    "print([1, 'Hello World', 1.1])"
   ]
  },
  {
   "cell_type": "markdown",
   "metadata": {},
   "source": [
    "Kommen wir nun zu dem Teil, der bisher bei `help()` von uns ignoriert wurde: den __Methoden__. Methoden sind Funktionen, die im Kontext des dazugehörigen Objekts existieren. Die Auflistung aller Methoden, zur besseren Übersicht, kann ähnlich wie `help()` durch die Funktion `dir()` erfolgen. Mit oder an einer Liste können damit die folgenden Methoden genutzt werden:"
   ]
  },
  {
   "cell_type": "code",
   "execution_count": null,
   "metadata": {},
   "outputs": [],
   "source": [
    "dir(list())"
   ]
  },
  {
   "cell_type": "markdown",
   "metadata": {},
   "source": [
    "Alle Methoden der Form `__method__` sind __spezielle Methoden__, die ergänzt/geändert oder benutzt werden können. Diese Methoden richten sich jedoch an erfahrene Benutzer. Es reicht zunächst zu wissen, dass sie existieren. Das Modifizieren/Erstellen dieser ist nicht Teil dieses Notebooks. Im Moment ist ausreichend zu wissen, dass diese Methoden das __Verhalten der Objekte__ bestimmen. Zum Beispiel existiert sowohl für `str` als auch für `int` die Methode `__add__` (Addition), die das Verhalten für den Operator `+` unterschiedlich festlegt. Die Operation der Subtraktion `__sub__` (Subtraktion) ist jedoch für `str` nicht definiert, weshalb auch eine entsprechende Fehlermeldung ausgegeben wurde.\n",
    "\n",
    "Interessant für uns sind dagegen zunächst alle anderen Methoden. Die Benennung lässt das Verhalten der Methode vermuten. Zur Sicherheit kann über `help()` die Methode betrachtet werden:\n"
   ]
  },
  {
   "cell_type": "code",
   "execution_count": null,
   "metadata": {},
   "outputs": [],
   "source": [
    "help(list.append)"
   ]
  },
  {
   "cell_type": "code",
   "execution_count": null,
   "metadata": {},
   "outputs": [],
   "source": [
    "my_list.append(\"Forgotten item\")\n",
    "my_list.append([1, 2, 3])\n",
    "my_list"
   ]
  },
  {
   "cell_type": "markdown",
   "metadata": {},
   "source": [
    "Auf die einzelnen Elemente der Liste kann ähnlich wie bei den Strings mittels `[]` zugegriffen werden. Wenn das Element selbst wieder eine Liste oder ein String ist, kann ebenfalls mittels `[]` das gewünschte Datenstück ausgewählt werden."
   ]
  },
  {
   "cell_type": "code",
   "execution_count": null,
   "metadata": {},
   "outputs": [],
   "source": [
    "my_list[0], my_list[1][1], my_list[-1][0]"
   ]
  },
  {
   "cell_type": "markdown",
   "metadata": {},
   "source": [
    "An dieser Stelle kann der Operator `in` verwendet werden. Er gibt an, ob sich ein Objekt in einer Liste befindet. Da sich Strings und Listen ähnlich verhalten, abgesehen von der Tatsache, dass bei einem String keine explizite Zuweisung von neuen Elementen anstelle von alten möglich ist, funktioniert `in` auch hier. Allerdings kann nur nach anderen Strings gesucht werden."
   ]
  },
  {
   "cell_type": "code",
   "execution_count": null,
   "metadata": {},
   "outputs": [],
   "source": [
    "print(f\"17.9 befindet sich in my_list: {17.9 in my_list}\")\n",
    "print(f\"'Hello World' befindet sich in my_list: {'Hello' in my_list}\")\n",
    "print(f\"'hello' befindet sich in my_list: {'hello' in my_list}\")\n",
    "print(f\"Der String 'one' ist im String 'someone' enthalten: {'one' in 'someone'}\")\n",
    "print(my_list[1:3])"
   ]
  },
  {
   "cell_type": "markdown",
   "metadata": {},
   "source": [
    "Ebenso ist es möglich, auf ein Intervall von Elementen in den Listen zuzugreifen, indem man `:` innerhalb von `[]` verwendet - analog zu den Strings."
   ]
  },
  {
   "cell_type": "code",
   "execution_count": null,
   "metadata": {},
   "outputs": [],
   "source": [
    "my_list[1:3]"
   ]
  },
  {
   "cell_type": "markdown",
   "metadata": {},
   "source": [
    "Die Berechnung `my_list + 2` verdeutlicht, dass Python darauf achtet, dass nur Objekte __gleichen__ Typs miteinander verrechnet oder kombiniert werden dürfen. Eine Ausnahme bilden Zahlen, bei denen eine Konvertierung durchgeführt wird.\n"
   ]
  },
  {
   "cell_type": "code",
   "execution_count": null,
   "metadata": {},
   "outputs": [],
   "source": [
    "my_list + 2"
   ]
  },
  {
   "cell_type": "code",
   "execution_count": null,
   "metadata": {},
   "outputs": [],
   "source": [
    "another_list = [2]\n",
    "my_list += another_list\n",
    "print(my_list)"
   ]
  },
  {
   "cell_type": "markdown",
   "metadata": {},
   "source": [
    "Wie verhält es sich mit der Subtraktion von zwei Listen?"
   ]
  },
  {
   "cell_type": "code",
   "execution_count": null,
   "metadata": {},
   "outputs": [],
   "source": [
    "my_list - [2]"
   ]
  },
  {
   "cell_type": "markdown",
   "metadata": {},
   "source": [
    "Da `__sub__` (Subtraktion) nicht in `dir(list)` aufgeführt wird, ist es nicht überraschend, dass die Subtraktion nicht definiert ist. Um ein bestimmtes Element zu entfernen, wird `remove(item)` verwendet, das das erste Element von links entfernt, das dem zu entfernenden Element entspricht. Um von der rechten Seite aus zu beginnen, kann die Reihenfolge der Liste mit `reverse(my_list)` oder `[::-1]` umgekehrt und nach dem Entfernen wiederhergestellt werden."
   ]
  },
  {
   "cell_type": "markdown",
   "metadata": {},
   "source": [
    "<div class=\"alert alert-info\">\n",
    "Aufgabe:\n",
    "\n",
    "Nutze die bereits implementierten Methoden in `list`, um festzustellen, wie oft die Zahl `1` in der Liste vorkommt. Entferne anschließend den String `\"World\"` aus dem String `\"Hello World\"`, der in der Liste enthalten ist. Der resultierende String sollte an derselben Stelle in der Liste erscheinen wie zuvor. Entferne danach das letzte Element aus der Liste. Ein Tipp hierzu: `help(list.pop)`. Welchen Wert gibt `len()` für die Liste aus? Entspricht dieser Wert deinen Erwartungen?\n",
    "\n",
    "</div>\n"
   ]
  },
  {
   "cell_type": "code",
   "execution_count": null,
   "metadata": {},
   "outputs": [],
   "source": [
    "# Your code goes here."
   ]
  },
  {
   "cell_type": "markdown",
   "metadata": {},
   "source": [
    "### Dictionary\n",
    "---"
   ]
  },
  {
   "cell_type": "markdown",
   "metadata": {},
   "source": [
    "Der nächste Datentyp sind die __Dictionaries__ (Wörterbücher), als Datentyp: `dict` (kurz Dicts). Der Vorteil dieser Struktur besteht darin, dass auf die einzelnen \"Elemente\", die __items__, über \"Schlüssel\", die __keys__, zugegriffen (übersetzt) werden kann. Bei den Dicts ist es sogar möglich, nach der Initialisierung einen beliebigen `key` mit dem entsprechenden `item` hinzuzufügen. Die Änderung der Objekte, die den jeweiligen Keys zugeordnet sind, funktioniert ähnlich wie bei den Listen.\n"
   ]
  },
  {
   "cell_type": "markdown",
   "metadata": {},
   "source": [
    "Die Initialisierung erfolgt analog zu derjenigen der Listen (oder der bereits zuvor vorgestellten Datentypen)."
   ]
  },
  {
   "cell_type": "code",
   "execution_count": null,
   "metadata": {},
   "outputs": [],
   "source": [
    "my_dict = dict()  # oder {}"
   ]
  },
  {
   "cell_type": "markdown",
   "metadata": {},
   "source": [
    "Die Keys müssen hierbei einzigartig (unique) sein. Zum Beispiel können verschiedene Strings oder Zahlen verwendet werden.\n",
    "\n",
    "(Natürlich ist es möglich, andere Keys zu verwenden, solange sie eindeutig und definiert sind, wie beispielsweise Funktionen – nicht Funktionsnamen. Es sollte jedoch immer die Frage gestellt werden, wie nützlich ein derartiger Key anschließend in der Verwendung ist.)"
   ]
  },
  {
   "cell_type": "code",
   "execution_count": null,
   "metadata": {},
   "outputs": [],
   "source": [
    "my_dict[\"Lichtgeschwindigkeit\"] = 299792458.0  # in m/s\n",
    "my_dict[\"Rechenregeln\"] = [\"Addition\", \"Division\"]\n",
    "my_dict[2] = {\"de\": \"zwei\", \"en\": \"two\"}\n",
    "print(my_dict)"
   ]
  },
  {
   "cell_type": "markdown",
   "metadata": {},
   "source": [
    "Das Zugreifen geschieht durch Verwendung von `[]`, wobei innerhalb der Klammern der entsprechende Key steht:"
   ]
  },
  {
   "cell_type": "code",
   "execution_count": null,
   "metadata": {},
   "outputs": [],
   "source": [
    "print(my_dict[\"Lichtgeschwindigkeit\"])\n",
    "print(my_dict[\"Rechenregeln\"][0])\n",
    "print(my_dict[2][\"en\"])\n",
    "\n",
    "my_dict[\"Kontinente\"] = {\"Australien\": \"Australien\"}"
   ]
  },
  {
   "cell_type": "markdown",
   "metadata": {},
   "source": [
    "Ein Blick auf `dir(dict)` verrät, dass sich einige der Methoden, die bei Listen definiert wurden, auch hier auftauchen. Achte dabei darauf, was diese Methoden in welchem Kontext bewirken, z. B. durch Verwendung von `help(dict.pop)`."
   ]
  },
  {
   "cell_type": "markdown",
   "metadata": {},
   "source": [
    "<div class=\"alert alert-info\">   \n",
    "Aufgabe:\n",
    "\n",
    "Vervollständige die Rechenregeln für Kontinente mit exemplarisch drei Staaten und zwei weiteren Zahlen. Füge außerdem Übersetzungen hinzu, die Du gerne erweitern kannst. Versuche dabei, die bereits bestehenden Elemente nicht zu überschreiben, sondern nutze die bereits implementierten Methoden (siehe `dir(dict), dir(list)`) zur Ergänzung. Entferne anschließend den Eintrag zur Lichtgeschwindigkeit aus der Sammlung.\n",
    "</div>"
   ]
  },
  {
   "cell_type": "code",
   "execution_count": null,
   "metadata": {},
   "outputs": [],
   "source": [
    "# Your code goes here"
   ]
  },
  {
   "cell_type": "markdown",
   "metadata": {},
   "source": [
    "### Tupel\n",
    "---"
   ]
  },
  {
   "cell_type": "markdown",
   "metadata": {},
   "source": [
    "Der letzte Datentyp ist das **Tupel** (`tuple`). Ein Blick in `dir(tuple)` verrät, dass Du nur abzählen kannst, wie viele Elemente sich in dem Tupel befinden, und welchen Index ein einzelnes Element hat, sofern es im Tupel vorhanden ist.\n",
    "\n",
    "Ein Tupel ist nach seiner Initialisierung nicht mehr veränderbar, anders als beispielsweise Listen oder Dicts, und eignet sich daher zum Speichern von Elementen, die sich nicht mehr ändern sollen. Ein Beispiel ist die Erstellung von Funktionen mit beliebigen Argumenten oder die Festlegung von bestimmten Werten einer Funktion anstelle einer Liste.\n"
   ]
  },
  {
   "cell_type": "code",
   "execution_count": null,
   "metadata": {},
   "outputs": [],
   "source": [
    "dir(tuple)"
   ]
  },
  {
   "cell_type": "code",
   "execution_count": null,
   "metadata": {},
   "outputs": [],
   "source": [
    "my_tuple = (a, b)\n",
    "print(my_tuple)"
   ]
  },
  {
   "cell_type": "markdown",
   "metadata": {},
   "source": [
    "Es ist jedoch ohne Probleme möglich, ein Tupel in eine Liste (und wieder zurück) umzuwandeln, um gegebenenfalls Elemente hinzuzufügen oder zu entfernen."
   ]
  },
  {
   "cell_type": "code",
   "execution_count": null,
   "metadata": {},
   "outputs": [],
   "source": [
    "my_tuple = list(my_tuple)\n",
    "print(my_tuple)\n",
    "my_tuple = tuple(my_list)\n",
    "print(my_tuple)"
   ]
  },
  {
   "cell_type": "markdown",
   "metadata": {},
   "source": [
    "Interessant ist dagegen das \"Entpacken\" eines Tupels. Dies kann entweder durch `[<int>]` erfolgen oder kürzer durch eine Zuweisung von mehreren Werten innerhalb einer Zeile:"
   ]
  },
  {
   "cell_type": "code",
   "execution_count": null,
   "metadata": {},
   "outputs": [],
   "source": [
    "c = (1, 2, 3, 4, 5)\n",
    "a, b, _, d, _ = c\n",
    "print(a, b, d)"
   ]
  },
  {
   "cell_type": "markdown",
   "metadata": {},
   "source": [
    "\"`_`\" kennzeichnet einen Wert, dem keine Zuweisung zugewiesen wird, also einer Art Mülltonne. Ohne `_` sind auf der linken Seite nicht genug Elemente vorhanden, um das Tupel `c` eindeutig zu entpacken."
   ]
  },
  {
   "cell_type": "markdown",
   "metadata": {},
   "source": [
    "Es besteht jedoch die Möglichkeit, alle nachfolgenden Elemente mittels `*_` zuzuweisen. Dies könnte in diesem Beispiel auch durch `a, b, _, _, _ = c` oder durch `a, b = c[0], c[1]` erreicht werden."
   ]
  },
  {
   "cell_type": "code",
   "execution_count": null,
   "metadata": {},
   "outputs": [],
   "source": [
    "a, b, *_ = c\n",
    "print(a, b)"
   ]
  },
  {
   "cell_type": "markdown",
   "metadata": {},
   "source": [
    "An dieser Stelle sei ebenfalls festgestellt, dass in Python eine Vertauschung zweier Variablenwerte durch `a, b = b, a` durchgeführt werden kann und keine temporäre Variable wie in anderen Programmiersprachen benötigt wird."
   ]
  },
  {
   "cell_type": "markdown",
   "metadata": {},
   "source": [
    "### Sets\n",
    "---"
   ]
  },
  {
   "cell_type": "markdown",
   "metadata": {},
   "source": [
    "Sets sind ein Datentyp in Python, der den mathematischen Mengen entspricht. Er wird eher selten verwendet. Dieser Datentyp ermöglicht die Speicherung einer ungeordneten Sammlung von einzigartigen Elementen. Mengen werden in geschweiften Klammern {} erstellt, wobei die Elemente durch Kommas getrennt werden. Da Mengen keine Duplikate von Elementen erlauben, eignen sie sich besonders gut zum Entfernen von Duplikaten aus einer Liste und zur schnellen Überprüfung der Zugehörigkeit eines Elements."
   ]
  },
  {
   "cell_type": "code",
   "execution_count": null,
   "metadata": {},
   "outputs": [],
   "source": [
    "a, b = {1, 2, \"Dog\"}, {2, \"Cat\", 3}"
   ]
  },
  {
   "cell_type": "markdown",
   "metadata": {},
   "source": [
    "Mengen unterstützen grundlegende Operationen wie Vereinigung, Schnitt und Differenz, ähnlich zur Mathematik."
   ]
  },
  {
   "cell_type": "code",
   "execution_count": null,
   "metadata": {},
   "outputs": [],
   "source": [
    "print(f\"Vereinigung von a und b: {a | b}\")\n",
    "print(f\"In a und b: {a & b}\")\n",
    "print(f\"In a aber nicht in b: {a - b}\")\n",
    "print(f\"In b aber nicht in a: {b - a}\")\n",
    "print(f\"Nicht in a oder b: {a ^ b}\")"
   ]
  },
  {
   "cell_type": "markdown",
   "metadata": {},
   "source": [
    "Im Gegensatz zu Listen oder Tupeln kannst Du nicht über einen Index auf einzelne Elemente zugreifen. Ebenso ist die Reihenfolge der Elemente, wenn beispielsweise eine Liste in ein Set umgewandelt wird, nicht immer gleich. Abgesehen von Anwendungen wie dem Entfernen von Duplikaten und der Frage, ob ein Element enthalten ist (z.B. `\"Dog\" in a`), werden Sets für die Manipulation von Mengen verwendet."
   ]
  },
  {
   "cell_type": "markdown",
   "metadata": {},
   "source": [
    "## Wenn-Abfragen und Schleifen"
   ]
  },
  {
   "cell_type": "markdown",
   "metadata": {},
   "source": [
    "In Programmen ist es oft notwendig, __bedingte Anweisungen__ einzuführen, um auf nicht explizit festgelegte oder veränderbare Variablen zu reagieren und unterschiedliches Verhalten entsprechend der Variablen zu erreichen.\n",
    "Diese Bedingungen werden in Python mithilfe von `if`, `elif` und `else` realisiert. Ein Beispiel hierfür:\n"
   ]
  },
  {
   "cell_type": "code",
   "execution_count": null,
   "metadata": {},
   "outputs": [],
   "source": [
    "a, b = 3, 2\n",
    "\n",
    "if a == 1:\n",
    "    print(f\"a hat den Wert {1}\")\n",
    "elif a < b:\n",
    "    print(f\"{a} ist kleiner als {b}\")\n",
    "else:\n",
    "    print(f\"a hat nicht den Wert {1} und {a} ist nicht kleiner als {b}\")"
   ]
  },
  {
   "cell_type": "markdown",
   "metadata": {},
   "source": [
    "Hier taucht auch zum ersten Mal die bereits erwähnte Blockstruktur mit den erforderlichen Einrückungen in Python auf. In diesem Beispiel werden die Anweisungen von oben nach unten durchgegangen, beginnend bei `a == 1`. Da `a = 3` ergibt, wird `a == 1` mit `False` evaluiert und das Programm geht zur nächsten zu betrachtenden Möglichkeit `a < b` über. Da auch dies nicht wahr ist und keine weiteren Möglichkeiten folgen, wird die `else`-Anweisung verwendet.\n",
    "\n",
    "Der logische Ausdruck nach `if` bzw. `elif` ist die Bedingung. Nach `else` folgt keine Bedingung, da `else` alle sonstigen Fälle abdeckt. Die Zeile mit der Anweisung wird durch `:` abgeschlossen. Der daraufhin auszuführende Code wird eingerückt (vier Leerzeichen). Diese Einrückung ist in vielen Sprachen nicht erforderlich, da der auszuführende Code nach Erfüllen der Bedingung oft in `{}` eingeschlossen wird. In Python ist dagegen diese Einrückung zwingend erforderlich – mit allen damit verbundenen Vor- und Nachteilen.\n"
   ]
  },
  {
   "cell_type": "markdown",
   "metadata": {},
   "source": [
    "<div class=\"alert alert-info\">\n",
    "Aufgabe:\n",
    "\n",
    "Verändere im vorherigen Beispiel den Wert von `a` auf `1.5` oder `3` und erweitere das Beispiel. Prüfe, ob `a` gleich `b` ist.\n",
    "</div>\n"
   ]
  },
  {
   "cell_type": "markdown",
   "metadata": {},
   "source": [
    "---"
   ]
  },
  {
   "cell_type": "markdown",
   "metadata": {},
   "source": [
    "Kommen wir nun zu den **Schleifen**. In Python erfolgt eine Unterscheidung zwischen den `while`- und `for`-Schleifen. Lass uns zunächst mit den `while`-Schleifen beginnen. Sie weisen folgende Struktur auf:\n",
    "\n",
    "```python\n",
    "while <Bedingung>:\n",
    "    <Block>\n",
    "```\n",
    "Die Bedingung kann dabei einen Ausdruck aus logischen oder Vergleichsoperatoren beinhalten. Ein einfaches Beispiel für eine `while`-Schleife könnte folgendermaßen aussehen:"
   ]
  },
  {
   "cell_type": "code",
   "execution_count": null,
   "metadata": {},
   "outputs": [],
   "source": [
    "i = 0\n",
    "while i <= 10:\n",
    "    print(i)\n",
    "    i += 1"
   ]
  },
  {
   "cell_type": "markdown",
   "metadata": {},
   "source": [
    "oder:"
   ]
  },
  {
   "cell_type": "code",
   "execution_count": null,
   "metadata": {},
   "outputs": [],
   "source": [
    "my_list = [0, 0, 2, 0, 4, 0, 6, 0, 8, 0]\n",
    "while (len(my_list) > 5 and 0 in my_list):\n",
    "    print(my_list)\n",
    "    my_list.remove(0)"
   ]
  },
  {
   "cell_type": "markdown",
   "metadata": {},
   "source": [
    "In der Anweisung steht lediglich eine Bedingung. Vor jedem Durchlauf der Schleife wird diese einmal überprüft. Um eine Endlosschleife zu erzeugen, kann anstelle einer Bedingung entweder `True` verwendet werden oder eine Bedingung gewählt werden, die niemals erfüllt wird. Um die `while`-Schleife zu beenden, ist es notwendig, entweder die Bedingung nach jedem Schleifendurchlauf zu aktualisieren und sicherzustellen, dass die Abbruchbedingung schließlich erfüllt wird, oder `break` in Kombination mit einer oder mehreren `if`-Anweisungen zu nutzen."
   ]
  },
  {
   "cell_type": "markdown",
   "metadata": {},
   "source": [
    "`break` (und `continue`) können innerhalb von Schleifen verwendet werden, um die Schleife vorzeitig zu beenden oder bestimmte Abschnitte im Schleifenblock zu überspringen und mit einem neuen Schleifendurchlauf zu starten. Schauen wir uns dazu das erste Beispiel an und modifizieren es folgendermaßen:"
   ]
  },
  {
   "cell_type": "code",
   "execution_count": null,
   "metadata": {},
   "outputs": [],
   "source": [
    "i = 0\n",
    "while i <= 10:\n",
    "    i += 1\n",
    "\n",
    "    if i % 2 == 0:  # Ist i gerade?\n",
    "        continue  # Springe zum nächsten Schleifendurchlauf\n",
    "\n",
    "    if i == 7:  # Ist i gleich 7?\n",
    "        break  # Beende die Schleife\n",
    "\n",
    "    # Es muss nicht immer if-elif-else oder if-else Abfragen sein\n",
    "\n",
    "    print(i)\n"
   ]
  },
  {
   "cell_type": "markdown",
   "metadata": {},
   "source": [
    "In dieser Schleife werden nun alle geraden Werte von `i` angezeigt – das bedeutet, Werte, bei denen bei einer ganzzahligen Division durch 2 kein Rest bleibt. Hierfür wird nach der Überprüfung `i % 2 == 0` ein neuer Schleifendurchlauf mit `continue` gestartet und die Ausgabe (`print(i)`) übersprungen. Falls `i` den Wert 7 annimmt, wird die Schleife durch Verwendung von `break` vorzeitig verlassen, selbst wenn die Bedingung `i <= 10` weiterhin erfüllt ist."
   ]
  },
  {
   "cell_type": "markdown",
   "metadata": {},
   "source": [
    "Bei `while`-Schleifen ist die Abbruchbedingung – sei es in Form von `break` oder einer Bedingung innerhalb der Anweisung – essenziell, um keine unendlich lange Schleife zu verursachen, die das restliche Programm blockieren könnte. Im Gegensatz dazu hat eine `for`-Schleife dieses Problem nicht. In der Praxis werden `while`-Schleifen seltener eingesetzt, jedoch haben sie, abhängig von der Aufgabenstellung, ihre Daseinsberechtigung. Lass uns nun zu den `for`-Schleifen übergehen. Diese weisen folgende Struktur auf:\n",
    "\n",
    "\n",
    "```python\n",
    "for <Variable> in <Objekt>:\n",
    "    <Block>\n",
    "```\n",
    "\n",
    "Das Objekt muss hierzu \"iterierbar\" sein, das heißt, es muss Elemente enthalten, die nacheinander abgerufen werden können. Schauen wir uns dazu drei Beispiele an:"
   ]
  },
  {
   "cell_type": "code",
   "execution_count": null,
   "metadata": {},
   "outputs": [],
   "source": [
    "object_1 = (0, 1, 2, 3)  # einfache Zahlenfolge\n",
    "object_2 = [\"C\", \"C++\", \"Perl\", \"Python\"]  # mögliche programmiersprachen\n",
    "object_3 = {\"Sprachen\": [\"C\", \"C++\", \"Perl\", \"Python\"], \"Betriebssysteme\": [\"Windows\", \"Linux\", \"MacOS\"]} # Beliebige Sammlung"
   ]
  },
  {
   "cell_type": "code",
   "execution_count": null,
   "metadata": {},
   "outputs": [],
   "source": [
    "for item in object_1:\n",
    "    print(item)"
   ]
  },
  {
   "cell_type": "code",
   "execution_count": null,
   "metadata": {},
   "outputs": [],
   "source": [
    "for item in object_2:\n",
    "    print(item)"
   ]
  },
  {
   "cell_type": "code",
   "execution_count": null,
   "metadata": {},
   "outputs": [],
   "source": [
    "for item in object_3:\n",
    "    print(item)"
   ]
  },
  {
   "cell_type": "markdown",
   "metadata": {},
   "source": [
    "Bei Listen und Tupeln erfolgt die Iteration über die eigentlichen Elemente. Im Falle von Dictionaries werden standardmäßig lediglich die `keys` für die Iteration verwendet. Dennoch ist es möglich, explizit über die `keys` mittels `object_3.keys()` oder über die Werte der `keys` mittels `object_3.values()` zu iterieren. Falls sowohl die `keys` als auch die dazugehörigen Werte (`values`) während der Iteration benötigt werden, kann dies mithilfe von `object_3.items()` bewerkstelligt werden:"
   ]
  },
  {
   "cell_type": "code",
   "execution_count": null,
   "metadata": {},
   "outputs": [],
   "source": [
    "for key, value in object_3.items():\n",
    "    print(key, value)"
   ]
  },
  {
   "cell_type": "markdown",
   "metadata": {},
   "source": [
    "Oft ergibt sich die Situation, in der nur die Indizes benötigt werden. In solchen Fällen kann die `range`-Funktion verwendet werden, indem sie wie folgt aufgerufen wird: `range(<start>, <end>, <step>)`. Dabei wird zwischen `<start>` und `<end>` mit Schritten von `<step>` iteriert:"
   ]
  },
  {
   "cell_type": "code",
   "execution_count": null,
   "metadata": {},
   "outputs": [],
   "source": [
    "list(range(0, 10, 2))"
   ]
  },
  {
   "cell_type": "markdown",
   "metadata": {},
   "source": [
    "Wenn die Elemente entscheidend sind, aber auch die Indizes benötigt werden, kann die Funktion `enumerate()` (aufzählen) verwendet werden. Dabei wird als Ausgabe immer ein Tupel aus dem Index und dem jeweiligen Element erzeugt:"
   ]
  },
  {
   "cell_type": "code",
   "execution_count": null,
   "metadata": {},
   "outputs": [],
   "source": [
    "for idx, item in enumerate(object_2):\n",
    "    print(idx, item)"
   ]
  },
  {
   "cell_type": "markdown",
   "metadata": {},
   "source": [
    "Die Variante `for i in range(len(numbers)):` wird in vielen anderen Programmiersprachen verwendet. Die pythonische Art, eine Schleife zu konstruieren (`for number in numbers:` oder `for i, number in enumerate(numbers):`), bietet hingegen den Vorteil einer besseren Lesbarkeit. Sie ist jedoch keineswegs zwingend erforderlich. Um den Unterschied zwischen einer Sammlung von Elementen und einem einzelnen Element in dieser Sammlung zu verdeutlichen, kann auch die Benennung der Variablen geschickt genutzt werden (`number` vs. `numbers`). Dies ist jedoch nicht notwendig, trägt jedoch zur Lesbarkeit des geschriebenen Codes bei.\n",
    "\n",
    "Eine weitere Eigenheit von Python ist die __List Comprehension__. In Python ist es möglich, Listen oder Dictionaries in einer Zeile zu erstellen. Der Vorteil dabei ist, dass die Struktur solcher __List Comprehensions__ dem Lesefluss folgt. Dadurch bleibt der Code kurz und dennoch leicht verständlich.\n",
    "\n",
    "Ein ähnliches Prinzip gilt für Zuweisungen, bei denen `if` und `else` verwendet werden. Hierzu die folgenden Beispiele:\n"
   ]
  },
  {
   "cell_type": "code",
   "execution_count": null,
   "metadata": {},
   "outputs": [],
   "source": [
    "print([i * i for i in range(10)])\n",
    "print([i * i for i in range(10) if i * i > 10 and i * i < 50])\n",
    "\n",
    "# Es müssen nicht immer Listen sein: \n",
    "# Ein Beispel mit einem Dictionary\n",
    "\n",
    "print({f\"{key}\": key ** 2 for key in range(5) if key % 2 == 0})\n",
    "\n",
    "# Ein Beispiel für eine Variablenzuweisung\n",
    "my_variable = 1 if a > 4 else 42\n",
    "my_variable"
   ]
  },
  {
   "cell_type": "markdown",
   "metadata": {},
   "source": [
    "## Funktionen\n",
    "---"
   ]
  },
  {
   "cell_type": "markdown",
   "metadata": {},
   "source": [
    "Der Vorteil von Funktionen liegt in ihrer Modularität und Wiederverwendbarkeit.\n",
    "\n",
    "In der Programmierung begegnen uns oft komplexe oder sich wiederholende Probleme. Funktionen sind ein mächtiges Werkzeug, um Code in abgeschlossene Einheiten zu organisieren. Mit Funktionen ist es möglich, spezifische Aufgaben als eigenständige Anweisungen zu formulieren, die immer wieder verwendet werden können, anstatt sie jedes Mal neu schreiben zu müssen.\n",
    "\n",
    "Die Verwendung von Funktionen schafft Klarheit und Struktur und ermöglicht die Wiederverwendbarkeit von Code. Ein wichtiger Aspekt ist, dass durch die Verwendung von Funktionen die Fehleranfälligkeit verringert wird und dennoch eingeschlichene Fehler viel schneller korrigiert werden können. Es ist einfacher, Änderungen nur an einer Stelle vorzunehmen, anstatt sie an verschiedenen Stellen zu wiederholen. In diesem Abschnitt werden wir die wichtige Rolle von Funktionen erkunden und verstehen, wie sie in Python dazu beitragen, Programme effizienter und effektiver zu gestalten.\n"
   ]
  },
  {
   "cell_type": "markdown",
   "metadata": {},
   "source": [
    "Die Syntax von Funktionen sieht die folgt aus:\n",
    "\n",
    "```python\n",
    "def <Funktionsname>(<arguments>):\n",
    "    <Anweisungen>\n",
    "    return <Ergebnis>\n",
    "```"
   ]
  },
  {
   "cell_type": "markdown",
   "metadata": {},
   "source": [
    "Die Syntax `def <Funktionsname>(<Argumente>):` wird verwendet, um eine Funktion zu definieren. Der in der Funktion auszuführende Code ist ähnlich zu anderen Anweisungen eingerückt. Am Ende der Funktion befindet sich ein Ausdruck, der in der Regel innerhalb der Funktion bestimmt wird und ein Ergebnis ausgibt (`return <Ergebnis>`). Ohne `return` wird standardmäßig `None` (nichts) ausgegeben, was jedoch auch explizit durch `return None` erreicht werden kann.\n",
    "\n",
    "Betrachten wir nun ein Beispiel, bei dem wir das Quadrat einer Zahl berechnen möchten. Die dazugehörige Funktion könnte wie folgt aussehen:"
   ]
  },
  {
   "cell_type": "code",
   "execution_count": null,
   "metadata": {},
   "outputs": [],
   "source": [
    "def square(number):\n",
    "    square_number = number * number\n",
    "    return square_number\n",
    "\n",
    "print(square(7))"
   ]
  },
  {
   "cell_type": "markdown",
   "metadata": {},
   "source": [
    "Die Anweisungen innerhalb der Funktion können hierbei auch andere Funktionsdefinitionen enthalten:"
   ]
  },
  {
   "cell_type": "code",
   "execution_count": null,
   "metadata": {},
   "outputs": [],
   "source": [
    "def square_of_square_1(number):\n",
    "    return square(square(number))\n",
    "\n",
    "def square_of_square_2(number):\n",
    "    a_new_variable = 42\n",
    "    def another_square(num):\n",
    "        square_number = num * num\n",
    "        return square_number\n",
    "    return another_square(another_square(number))\n",
    "\n",
    "print(square_of_square_1(2), square_of_square_2(2))"
   ]
  },
  {
   "cell_type": "markdown",
   "metadata": {},
   "source": [
    "Das Ergebnis ist gleich, was weniger verwunderlich ist."
   ]
  },
  {
   "cell_type": "markdown",
   "metadata": {},
   "source": [
    "Wichtig an dieser Stelle ist zu merken, dass für verschachtelte Funktionen gilt: Auf Objekte, die innerhalb einer Funktion definiert werden, wozu auch die Funktionen Zählen, kan von außerhalb der Funktion nicht zugegriffen werden! Es ist somit nicht möglich die Funktion `another_square` außerhalb von `square_of_square_2` aufzurufen:\n",
    "\n",
    "Wichtig an dieser Stelle ist zu beachten, dass für verschachtelte Funktionen folgendes gilt: Auf Objekte, die innerhalb einer Funktion definiert werden, zu denen auch Funktionen zählen, kann von außerhalb der Funktion nicht zugegriffen werden. Es ist somit nicht möglich, die Funktion `another_square` außerhalb von `square_of_square_2` aufzurufen:\n"
   ]
  },
  {
   "cell_type": "code",
   "execution_count": null,
   "metadata": {},
   "outputs": [],
   "source": [
    "another_square(2)"
   ]
  },
  {
   "cell_type": "markdown",
   "metadata": {},
   "source": [
    "Gleiches gilt für Variablen die innerhalb der Funktionen erstellt wurden"
   ]
  },
  {
   "cell_type": "code",
   "execution_count": null,
   "metadata": {},
   "outputs": [],
   "source": [
    "a_new_variable"
   ]
  },
  {
   "cell_type": "markdown",
   "metadata": {},
   "source": [
    "Möchte man mit der Funktion `square` die Quadrate der Elemente einer Liste berechnen, so ist dies nicht ohne Weiteres möglich:"
   ]
  },
  {
   "cell_type": "code",
   "execution_count": null,
   "metadata": {},
   "outputs": [],
   "source": [
    "print(square([1,2,3]))"
   ]
  },
  {
   "cell_type": "markdown",
   "metadata": {},
   "source": [
    "<div class=\"alert alert-info\">\n",
    "Aufgabe:\n",
    "\n",
    "Ergänze die Funktion `square` so, dass sie sowohl Zahlen als auch beliebige Listen als Argumente akzeptiert und entweder das Quadrat einer Zahl oder eine Liste von Quadraten zurückgibt.\n",
    "\n",
    "Hinweis:\n",
    "Du kannst eine Fallunterscheidung mit `type(number) == list` durchführen, um zu überprüfen, ob das übergebene Argument eine Zahl (`float` oder `int`) oder eine Liste (`list`) ist.\n",
    "</div>\n"
   ]
  },
  {
   "cell_type": "markdown",
   "metadata": {},
   "source": [
    "Die Funktionalität von `square`, Listen zu akzeptieren und die Berechnungen korrekt durchzuführen, ist durch die Verwendung von `square` in `square_of_square_1` dort bereits enthalten! Hingegen erfordert `square_of_square_2` eine eigenständige Anpassung. Daher ist es vorteilhaft, wenn möglich, den Code zu faktorisieren. Dies ermöglicht es, bei Bedarf nur einen geringfügigen Teil des Codes ändern zu müssen."
   ]
  },
  {
   "cell_type": "markdown",
   "metadata": {},
   "source": [
    "## Module\n",
    "---"
   ]
  },
  {
   "cell_type": "markdown",
   "metadata": {},
   "source": [
    "In der Programmierung stoßen wir oft auf gängige Aufgaben, die in vielen Projekten auftreten. Python stellt dafür eine Vielzahl von eingebauten Modulen bereit, die bereits vordefinierte Funktionen und Werkzeuge für häufige Aufgaben enthalten. Mit diesen Werkzeugkästen kannst Du viel Zeit gespart und Code effizienter gestalten.\n",
    "\n",
    "Ein solches Modul ist das `math`-Modul. Es stellt mathematische Funktionen und Konstanten bereit, die komplexe Berechnungen in nur wenigen Schritten ermöglichen.\n"
   ]
  },
  {
   "cell_type": "markdown",
   "metadata": {},
   "source": [
    "Um die Funktionalität von Modulen in Python nutzen zu können, müssen diese zunächst importiert werden. In Python verwenden wir den `import`-Befehl, gefolgt vom Modulnamen. Dies ermöglicht uns den Zugriff auf die in diesem Modul enthaltenen Funktionen und Eigenschaften.\n",
    "\n",
    "Es gibt verschiedene Möglichkeiten, Module zu importieren, abhängig von der Art, wie Du sie verwenden möchtest. Du kannst ein gesamtes Modul importieren, um auf alle seine Funktionen zuzugreifen (`import math`), oder nur bestimmte Funktionen daraus importieren (`from math import sin`). Außerdem hast Du die Möglichkeit, Modulen Aliase zuzuweisen, um ihre Namen zu verkürzen und den Code übersichtlicher zu gestalten (`import math as m`).\n",
    "\n",
    "Sobald ein Modul importiert ist, kannst Du seine Funktionen und Eigenschaften nutzen, indem Du, ähnlich wie bei Methoden von Objekten, den Modulnamen gefolgt von einem Punkt verwendest. Mit dem Modul `math` können kann beispielsweise den Sinus eines bestimmten Werts berechnet werden:\n"
   ]
  },
  {
   "cell_type": "code",
   "execution_count": null,
   "metadata": {},
   "outputs": [],
   "source": [
    "import math  # Zugriff auf math-Funktionen via math.<Funktion>\n",
    "print(math.sin(1.2))\n",
    "\n",
    "import math as m  # Zugriff auf math-Funktionen via m.<Funktion>\n",
    "print(m.sin(1.2))\n",
    "\n",
    "from math import sin  # Zugriff auf sin direkt. Keine weiteren Funktionen von math verfügbar\n",
    "print(sin(1.2))"
   ]
  },
  {
   "cell_type": "markdown",
   "metadata": {},
   "source": [
    "Im obigen Beispiel sind drei Varianten aufgezeigt, wie die Sinus-Funktion importiert und angewendet werden kann. Alle drei Versionen erfüllen ihren Zweck. Es ist jedoch immer ratsam, die erste oder zweite Variante zu verwenden. Für mathematische Funktionen ist es nicht unmittelbar ersichtlich. Nehmen wir zur Veranschaulichung des Problems die Module `json` und `csv`. Beide Module erleichtern das Arbeiten mit `.json`- bzw. `.csv`-Dateien. Da die Operationen, die an Dateien durchgeführt werden können, ähnlich sind, gleichen sich einige der Funktionsnamen in den beiden Modulen. Eine explizite Nennung des jeweiligen Moduls in Kombination mit der verwendeten Funktion beseitigt mögliche Verwechslungen welche Funktion für welches Datenformat verwendet werden soll. Zudem erleichtert eine solche Zuweisung das spätere Verbessern oder Erweitern des Codes, da so schneller ersichtlich ist, aus welchem Modul die jeweilige Funktion stammt.\n"
   ]
  },
  {
   "cell_type": "markdown",
   "metadata": {},
   "source": [
    "In dem obigen Beispiel wurde das Modul `math` genutzt, um eine mathematische Operation auszuführen, die eine Zahl entgegennimmt und eine Zahl zurückgibt. Wenn wir mehrere Zahlen haben, zum Beispiel zusammengefasst in einer Liste, müsste eine Schleife ausgeführt werden (ähnlich zu der Quadratfunktion die Du oben ergänzt hast). In dieser Schleife würde die Operation für jedes der einzelnen Elemente durchgeführt und das Ergebnis in einer neuen Liste gespeichert werden. Das könnte auch in etwa folgendermaßen aussehen:\n"
   ]
  },
  {
   "cell_type": "code",
   "execution_count": null,
   "metadata": {},
   "outputs": [],
   "source": [
    "x = list(range(10))  # oder explizit [0, 1, 2, 3, 4, 5, 6, 7, 8, 9]"
   ]
  },
  {
   "cell_type": "code",
   "execution_count": null,
   "metadata": {},
   "outputs": [],
   "source": [
    "new_x = []\n",
    "for number in x:\n",
    "    new_x.append(math.sin(number))\n",
    "\n",
    "# oder in einer Zeile\n",
    "# new_numbers = [math.sin(number) for number in numbers]\n",
    "print(new_x)"
   ]
  },
  {
   "cell_type": "markdown",
   "metadata": {},
   "source": [
    "Leider sind Schleifen in Python nicht besonders zeiteffizient. Für einfache Aufgaben mag es sinnvoll sein, eine Schleife für eine Rechenoperation zu verwenden. Jedoch ist dies für komplexere Berechnungen und/oder größere Datenmengen oft nicht empfehlenswert – vor allem dann nicht, wenn wir effizient arbeiten möchten. Hier kommt NumPy ins Spiel! Die Verwendung von NumPy bringt mehrere Vorteile mit sich: Sie ermöglicht nicht nur schnellere und effizientere Berechnungen, sondern bietet auch eine kompakte und gut strukturierte Syntax. Dank der Optimierung für Arrays wird NumPy zur idealen Wahl für datenintensive Anwendungen in der wissenschaftlichen Forschung. Viele der Konzepte von NumPy sind auch von anderen Modulen übernommen worden, wodurch sich die erlernten Vorgehensweisen auf andere Module und Teilgebiete ausweiten lassen.\n"
   ]
  },
  {
   "cell_type": "markdown",
   "metadata": {},
   "source": [
    "NumPy ist nicht standardmäßig in Python enthalten und muss immer zusätzlich (einmalig) installiert werden. Für diejenigen, die gerne eine Konsole verwenden, kann die aktuellste Version von NumPy über den Befehl `pip3 install numpy` installiert werden. Im Jupyter Notebook besteht die Möglichkeit, dies direkt in einer Zelle auszuführen, indem ein `!` vorangestellt wird:"
   ]
  },
  {
   "cell_type": "code",
   "execution_count": null,
   "metadata": {},
   "outputs": [],
   "source": [
    "!pip3 install numpy"
   ]
  },
  {
   "cell_type": "markdown",
   "metadata": {},
   "source": [
    "Die Ausgabe zeigt an, welche Version installiert wird oder bereits installiert ist. Wenn NumPy installiert wurde, muss es ähnlich wie das `math`-Modul importiert werden. Üblicherweise wird dies in folgender Form durchgeführt:"
   ]
  },
  {
   "cell_type": "code",
   "execution_count": null,
   "metadata": {},
   "outputs": [],
   "source": [
    "import numpy as np"
   ]
  },
  {
   "cell_type": "markdown",
   "metadata": {},
   "source": [
    "Der Trick von NumPy besteht darin, dass alle Python-Listen in NumPy-Arrays über `np.array(<Meine Liste>)` konvertiert werden können:"
   ]
  },
  {
   "cell_type": "code",
   "execution_count": null,
   "metadata": {},
   "outputs": [],
   "source": [
    "x = np.array(list(range(10)))\n",
    "print(x)\n",
    "print(type(x))"
   ]
  },
  {
   "cell_type": "markdown",
   "metadata": {},
   "source": [
    "Wenn wir jetzt den Sinus von `x` berechnen möchten, reicht es aus, die NumPy Implementation von Sinus zu verwenden (`np.sin()`) und dieser Funktion das NumPy-Array zu übergeben."
   ]
  },
  {
   "cell_type": "code",
   "execution_count": null,
   "metadata": {},
   "outputs": [],
   "source": [
    "new_x = np.sin(x)\n",
    "new_x"
   ]
  },
  {
   "cell_type": "markdown",
   "metadata": {},
   "source": [
    "Da NumPy alle Rechenoperationen automatisch auf alle Elemente ausführt, wird es unglaublich einfach (und übersichtlich!), komplexere Rechenschritte darzustellen.\n",
    "\n",
    "Als Beispiel betrachten wir die Berechnung von $\\sqrt{2 \\cdot \\sin^2(x) + 2}$, wobei für $x$ alle Werte aus dem Array `x` genutzt werden sollten:\n"
   ]
  },
  {
   "cell_type": "code",
   "execution_count": null,
   "metadata": {},
   "outputs": [],
   "source": [
    "np.sqrt(2 * (np.sin(x)) ** 2 + 2)"
   ]
  },
  {
   "cell_type": "markdown",
   "metadata": {},
   "source": [
    "An dieser Stelle kann erneut die Bedeutung der eindeutigen Importierung von einzelnen Funktionen oder Modulen deutlich gemacht werden:"
   ]
  },
  {
   "cell_type": "code",
   "execution_count": null,
   "metadata": {},
   "outputs": [],
   "source": [
    "print(np.sin(x))\n",
    "print(np.sin(1.2))\n",
    "print(math.sin(1.2))\n",
    "print(math.sin(x))"
   ]
  },
  {
   "cell_type": "markdown",
   "metadata": {},
   "source": [
    "Die Sinus-Funktion des Moduls `math` akzeptiert ausschließlich reelle Zahlen als Argument, während die NumPy-Variante sowohl reelle Zahlen als auch Listen und `numpy.array` akzeptiert. Ohne eine explizite Nennung des verwendeten Moduls wird die Fehlersuche erheblich erschwert.\n",
    "\n",
    "Wie bereits erwähnt, ist nahezu alles, was in Python implementiert ist, auch dokumentiert und kann mithilfe von `help()` betrachtet werden, auch NumPy!"
   ]
  },
  {
   "cell_type": "code",
   "execution_count": null,
   "metadata": {},
   "outputs": [],
   "source": [
    "help(np.array)"
   ]
  },
  {
   "cell_type": "code",
   "execution_count": null,
   "metadata": {},
   "outputs": [],
   "source": [
    "help(np.sin)"
   ]
  },
  {
   "cell_type": "markdown",
   "metadata": {},
   "source": [
    "Bei NumPy existieren außerdem Beispiele, wie die Funktion/Methode (auch in Kombination mit anderen Modulen) angewendet werden kann.\n",
    "\n",
    "Um die Mächtigkeit solcher Drittanbietermodule zu erahnen, kann `dir(np)` verwendet werden. Die daraufhin angezeigte Liste enthält nicht nur Funktionen, sondern auch Klassen, die wiederum Methoden enthalten. Dadurch erhält man eine breite Auswahl an vordefinierten Funktionen, die entweder direkt oder in Kombination für das eigene Problem genutzt werden können!"
   ]
  },
  {
   "cell_type": "code",
   "execution_count": null,
   "metadata": {},
   "outputs": [],
   "source": [
    "# dir(np)\n",
    "# print(dir(np.linalg))\n",
    "# help(np.linalg)"
   ]
  },
  {
   "cell_type": "markdown",
   "metadata": {},
   "source": [
    "Weitere Pakete wie Scientific Python (SciPy), die zusätzliche spezielle Funktionen enthalten, oder das Modul Matplotlib zur Datenvisualisierung – zusammen mit vielen anderen Modulen – können auf dem [Python Package Index (PyPI)](https://pypi.org/) gefunden und, wie oben am Beispiel von NumPy gezeigt, installiert werden. Die Python-Built-In-Bibliotheken und allgemeine weitere Python-Themen können in [der offiziellen Dokumentation](https://www.python.org/doc/) nachgeschlagen werden."
   ]
  },
  {
   "cell_type": "markdown",
   "metadata": {},
   "source": [
    "Mit dieser kurzen Einführung solltest du nun die meisten Funktionalitäten von Python kennengelernt haben, die du für die bevorstehende Suche nach dem Higgs-Boson benötigst.\n",
    "\n",
    "Im folgenden Abschnitt findest du zusätzliche Informationen zu Funktionsaufrufen und -definitionen sowie grundlegende Möglichkeiten, wie Daten in Python eingelesen werden können. Diese Informationen werden für die kommenden Aufgaben nicht benötigt, aber du kannst (auch später) dort hineinschauen. Ansonsten findest du weitere Informationen zur Funktionalität von Python, vor allem in der offiziellen Dokumentation, die oben verlinkt ist.\n"
   ]
  },
  {
   "cell_type": "markdown",
   "metadata": {},
   "source": [
    "## Zusatz\n",
    "---"
   ]
  },
  {
   "cell_type": "markdown",
   "metadata": {},
   "source": [
    "Die nachfolgenden Aspekte richten sich lediglich an interessierte Leser, da diese Funktionalitäten für unsere Aufgabe nicht explizit benötigt werden. Natürlich kann dieser Teil bei später auftretendem Interesse betrachtet werden."
   ]
  },
  {
   "cell_type": "markdown",
   "metadata": {},
   "source": [
    "### Funktionen\n",
    "---"
   ]
  },
  {
   "cell_type": "markdown",
   "metadata": {},
   "source": [
    "In Python wird bei den Funktionsargumenten zwischen den für den Funktionsaufruf notwendigen Argumenten (`args`) unterschieden, die immer angegeben werden müssen, und den optionalen \"keyword\"-Argumenten (`kwargs`), die bei der Funktionsdefinition festgelegt werden. Eine Begegnung mit Funktionen, die \"beliebige\" (wahrscheinlich zuvor definierte, jedoch nicht weiter dargestellte) Argumente akzeptieren, ist eine Frage des \"Wann\" und nicht des \"Ob\". Daher schauen wir uns dies hier an. Eine Funktion mit einer beliebigen Anzahl von `args` und `kwargs` kann folgendermaßen aussehen:"
   ]
  },
  {
   "cell_type": "code",
   "execution_count": null,
   "metadata": {},
   "outputs": [],
   "source": [
    "def my_func(*args, **kwargs):\n",
    "    print(\"\\n\")\n",
    "    print(f\"args ist vom Typ {type(args)}. {type(args)} werden durch * 'entpackt'\")\n",
    "    print(args)\n",
    "    print(f\"kwargs ist vom Typ {type(kwargs)}. {type(kwargs)} werden durch ** 'entpackt'\")\n",
    "    print(kwargs)\n",
    "\n",
    "\n",
    "my_func(1, (2,2), [3], radius=10, name=\"Emily\")\n",
    "my_func(1, (2,2))\n",
    "my_func(dog_name=\"Rex\")"
   ]
  },
  {
   "cell_type": "markdown",
   "metadata": {},
   "source": [
    "Die `args` können, sofern sie bei der Funktionsdefinition explizit angegeben werden, auch wie `kwargs` behandelt werden. Wenn alle Argumente mithilfe des Zuweisungsoperators beim Funktionsaufruf angegeben werden, ist die Reihenfolge irrelevant. Andernfalls gilt die bei der Funktionsdefinition festgelegte Reihenfolge. Die `kwargs` behalten den zuvor definierten Wert bei, solange dieser nicht explizit geändert wird."
   ]
  },
  {
   "cell_type": "code",
   "execution_count": null,
   "metadata": {},
   "outputs": [],
   "source": [
    "def another_func(a, b, c=2, d=0):\n",
    "    print(f\"a = {a}, b = {b}, c = {c}, d = {d}\")\n",
    "\n",
    "my_tuple = (1, 2)\n",
    "my_dict = {\"a\": 1, \"b\": 2, \"c\": 4}\n",
    "\n",
    "another_func(*my_tuple)  # hier wird my_tuple mit * entpackt und die beiden Werte werden den Argumenten a und b zugewiesen\n",
    "another_func(**my_dict)  # hier wird my_dict mit ** entpackt und die Werte werden den Argumenten a, b, c zugewiesen (d bleibt default)\n",
    "\n",
    "another_func(c=2, a=0, b=2, d=1)  # hier werden die Argumente explizit benannt\n",
    "another_func(0, 0, 1)  # 0, 0 sind erforderlich (a, b). 1 wird c zugewiesen, d bleibt default"
   ]
  },
  {
   "cell_type": "markdown",
   "metadata": {},
   "source": [
    "Ebenfalls ist es möglich, die Funktion innerhalb sich selbst aufzurufen. Dabei ist zu beachten, dass diese Rekursion eine Abbruchbedingung besitzen muss, da ansonsten die Rekursion endlos ablaufen würde.\n",
    "\n",
    "Ein Beispiel hierfür können wir die Fibonacci-Zahlen betrachten. Die Folge der Fibonacci-Zahlen sieht wie folgt aus: $1, 1, 2, 3, 5, 8, 13, 21, 34, ...$ - die nächste Zahl ist immer die Summe aus den beiden vorhergehenden Zahlen - und lässt sich mit der rekursiven Formel berechnen: $$F(n) = F(n - 1) + F(n - 2) \\, .$$\n",
    "\n",
    "Die entsprechende Funktion kann wie folgt aussehen:\n"
   ]
  },
  {
   "cell_type": "code",
   "execution_count": null,
   "metadata": {},
   "outputs": [],
   "source": [
    "def fibonacci(number):\n",
    "    if number == 0:  # Nullte Fibonacci-Zahl ist 0\n",
    "        return 0  \n",
    "    elif number == 1: # Erste Fibonacci-Zahl ist 1\n",
    "        return 1\n",
    "    else:  # Alle anderen Fibonacci-Zahlen sind die Summe der beiden vorherigen\n",
    "        return fibonacci(number-1) + fibonacci(number-2)"
   ]
  },
  {
   "cell_type": "markdown",
   "metadata": {},
   "source": [
    "Nehmen wir beispielhaft einige Fibonacci Zahlen:"
   ]
  },
  {
   "cell_type": "code",
   "execution_count": null,
   "metadata": {},
   "outputs": [],
   "source": [
    "for number in [35, 30, 25, 20, 15, 10, 5, 35, 35, 35]:\n",
    "    print(fibonacci(number))"
   ]
  },
  {
   "cell_type": "markdown",
   "metadata": {},
   "source": [
    "Die Berechnung größerer Fibonacci-Zahlen erfordert viel Zeit, insbesondere wenn größere Zahlen (mehrfach) berechnet werden müssen.\n",
    "\n",
    "Eine Möglichkeit, diese Berechnungszeit zu verkürzen, besteht darin, einen Zwischenspeicher (Cache) zu erstellen. Der Vorteil eines Caches besteht darin, dass keine weitere Rekursion erforderlich ist, sobald die Funktion bereits einmal mit demselben Argument aufgerufen wurde und das Ergebnis im Cache gespeichert hat. Ab diesem Zeitpunkt kann das Ergebnis direkt aus dem Cache abgerufen und wiederverwendet werden.\n",
    "\n",
    "Für unseren Fall könnte eine zusätzliche Funktion ähnlich zu `square_of_square_1` erstellt werden:\n"
   ]
  },
  {
   "cell_type": "code",
   "execution_count": null,
   "metadata": {},
   "outputs": [],
   "source": [
    "memo = {}\n",
    "\n",
    "def memoize_fibonacci(number):\n",
    "    if number not in memo:\n",
    "        memo[number] = fibonacci(number)\n",
    "    return memo[number]"
   ]
  },
  {
   "cell_type": "markdown",
   "metadata": {},
   "source": [
    "Die Besonderheit besteht darin, dass das Dictionary `memo` nicht in der Funktion `memoize_fibonacci` selbst definiert ist, sondern außerhalb dieser Funktion. Wenn nun innerhalb von `memoize_fibonacci` das `memo`-Dictionary nicht gefunden wird, versucht Python, es in der nächst äußeren Umgebung zu finden. Sobald die globalen Variablen erreicht werden und die Variable immer noch nicht gefunden ist, wird Python eine Fehlermeldung ausgeben. Wenn man hingegen explizit auf globale Variablen innerhalb von Funktionen zugreifen möchte, kann dies mithilfe von `global <Variable>` innerhalb des Funktionskörpers geschehen.\n",
    "\n",
    "Ein etwas ausführlicheres Beispiel, das das Beschriebene in Aktion zeigt:"
   ]
  },
  {
   "cell_type": "code",
   "execution_count": null,
   "metadata": {},
   "outputs": [],
   "source": [
    "A = \"globales A\"\n",
    "\n",
    "def my_func():\n",
    "    A = \"lokales A\"  # Nur innerhalb von 'my_func' sichtbar\n",
    "    def inner_func():\n",
    "        # A ist hier nicht definiert, die nächsthöhere \n",
    "        # Ebene wird geprüft: Ein A existiert in 'my_func'\n",
    "        print(f\"Aufruf: {A}\")\n",
    "    inner_func()\n",
    "\n",
    "    \n",
    "def another_func():\n",
    "    A = \"lokales A\"  # Nur innerhalb von 'another_func' sichtbar\n",
    "    print(f\"Aufruf: {A}\")\n",
    "    def inner_func():        \n",
    "        global A  # Holt die globale Variable A in den lokalen Namensraum von 'inner_func'\n",
    "        print(f\"Aufruf: {A}\")  # A ist nun die globale Variable A\n",
    "        A = \"geändertes globales A\"  # Ändert die globale Variable A!\n",
    "        print(f\"Aufruf: {A}\")  # A ist weiterhin die globale Variable A\n",
    "    inner_func()\n",
    "    print(f\"Aufruf: {A}\")  # A ist in 'another_func' definiert, nach globalem A wird nicht geschaut\n",
    "\n",
    "\n",
    "print(\"\\nAufruf von 'my_func':\")\n",
    "my_func()\n",
    "print(\"\\nAufruf von 'another_func':\")\n",
    "another_func()\n",
    "print(\"\\nAufruf von 'my_func':\")\n",
    "my_func()\n",
    "\n",
    "print(f\"\\nglobale Variable A ist nun: {A}\")"
   ]
  },
  {
   "cell_type": "markdown",
   "metadata": {},
   "source": [
    "Kehren wir zu den Fibonacci-Zahlen zurück. Mit der nun erstellten `memoize_fibonacci`-Funktion erfolgt die vorherige Berechnung erheblich schneller, insbesondere wenn $n=35$ ein zweites (oder drittes) Mal berechnet wird:"
   ]
  },
  {
   "cell_type": "code",
   "execution_count": null,
   "metadata": {},
   "outputs": [],
   "source": [
    "for number in [35, 30, 25, 20, 15, 10, 5, 35, 35, 35]:\n",
    "    print(memoize_fibonacci(number))"
   ]
  },
  {
   "cell_type": "markdown",
   "metadata": {},
   "source": [
    "### Lesen und schreiben von Daten\n",
    "---"
   ]
  },
  {
   "cell_type": "markdown",
   "metadata": {},
   "source": [
    "Python bietet die Möglichkeit, einen Context Manager bei vielen unterschiedlichen Anwendungen zu verwenden. Um die Frage zu beantworten, was ein Context Manager genau ist und was er bewirkt, werfen wir zunächst einen Blick auf eine typische Ausgangssituation, in der wir den Context Manager einsetzen sollten:\n",
    "\n",
    "Angenommen, wir möchten eine Datei namens `Greeting.txt` erstellen. Diese Datei soll verschiedene Arten von Grüßen enthalten und später auch unabhängig von unserem Python-Programm genutzt werden. Beginnen wir mit dem Dateinamen:"
   ]
  },
  {
   "cell_type": "code",
   "execution_count": null,
   "metadata": {},
   "outputs": [],
   "source": [
    "filename = \"Greeting.txt\""
   ]
  },
  {
   "cell_type": "markdown",
   "metadata": {},
   "source": [
    "Um eine Datei zu öffnen, benutzt man die Funktion `open()` und weist das ausgegebene Objekt einer Variable, beispielsweise `file`, zu. Das wichtigste Argument hierbei ist der `mode` (Modus). Dieser kann die Zeichenketten `\"w\"` für Schreiben (write), `\"a\"` für Anfügen (append) oder `\"r\"` für Lesen (read) sein. Wenn `mode=\"w\"` gewählt wird, wird die Datei erstellt, wenn sie noch nicht existiert, und überschrieben, falls sie bereits vorhanden ist. Nach dem Öffnen der Datei können wir die Methode `write()` des Dateiobjekts verwenden, um beliebige Zeichenketten zu schreiben. Als Beispiel nehmen wir `\"Hello World\\n\"`, wobei `\"\\n\"` einen Zeilenumbruch in der Datei darstellt. Sobald der Schreibvorgang abgeschlossen ist, sollten wir die Datei wieder schließen, und zwar mit der Methode `close()` auf dem Dateiobjekt.\n",
    "\n"
   ]
  },
  {
   "cell_type": "code",
   "execution_count": null,
   "metadata": {},
   "outputs": [],
   "source": [
    "file = open(filename, mode=\"w\")\n",
    "file.write(\"Hello World\\n\")\n",
    "file.close()"
   ]
  },
  {
   "cell_type": "markdown",
   "metadata": {},
   "source": [
    "Es sollte nun im gleichen Ordner `Greetings.txt` auftauchen."
   ]
  },
  {
   "cell_type": "markdown",
   "metadata": {},
   "source": [
    "Als nächstes möchten wir nachträglich eine zusätzliche Begrüßung hinzufügen. Hierfür verwenden wir den Modus `mode=\"a\"`:"
   ]
  },
  {
   "cell_type": "code",
   "execution_count": null,
   "metadata": {},
   "outputs": [],
   "source": [
    "file = open(filename, mode=\"a\")\n",
    "file.write(\"Ciao mondo\\n\")\n",
    "file.close()"
   ]
  },
  {
   "cell_type": "markdown",
   "metadata": {},
   "source": [
    "Jetzt sollten beide Einträge in der Datei vorhanden sein.\n",
    "\n",
    "Es ist immer von großer Bedeutung, die Datei nach dem Schreibvorgang ordnungsgemäß zu schließen. Sollte ein Fehler im Code auftreten und das Programm vor dem Schließen abbrechen, kann das zu Problemen führen, insbesondere unter Windows.\n",
    "\n",
    "Dieses Problem kann durch die Verwendung eines Context Managers gelöst werden. Die Anweisung `with <do something> as <name>:` enthält die vorherige Zuweisung von `file`. Der eingerückte Code innerhalb dieser Anweisung hat Zugriff auf `file`. Das Schließen der Datei mit `file.close()` am Ende des eingerückten Codes übernimmt der Context Manager automatisch. Ebenso sorgt der Context Manager dafür, dass die Datei geschlossen wird, selbst wenn im eingerückten Code Fehler auftreten!\n"
   ]
  },
  {
   "cell_type": "code",
   "execution_count": null,
   "metadata": {},
   "outputs": [],
   "source": [
    "with open(filename, mode=\"r\") as txt_file:\n",
    "    greetings = []\n",
    "    for line in txt_file:\n",
    "        greeting = line.replace(\"\\n\", \"\")\n",
    "        greetings.append(greeting)\n",
    "print(f\"Die Datei wurde geschlossen: {txt_file.closed}\")\n",
    "print(greetings)\n",
    "\n",
    "with open(filename, mode=\"a\") as another_txt_file:\n",
    "    raise Exception(\"Absichtlicher Fehler!\")  #"
   ]
  },
  {
   "cell_type": "code",
   "execution_count": null,
   "metadata": {},
   "outputs": [],
   "source": [
    "print(f\"Die Datei wurde geschlossen: {another_txt_file.closed}\")"
   ]
  },
  {
   "cell_type": "markdown",
   "metadata": {},
   "source": [
    "Wenn man Dateien manuell öffnet und schließt, besteht die Gefahr, dass `file.close()` nie aufgerufen wird. Ein Context Manager ist immer dann sinnvoll und empfohlen, wenn ein Schritt darin besteht, ein Objekt zu öffnen oder zu erstellen, das später am Ende geschlossen oder aufgelöst werden soll.\n"
   ]
  },
  {
   "cell_type": "markdown",
   "metadata": {},
   "source": [
    "### Erwartete Fehler\n",
    "---"
   ]
  },
  {
   "cell_type": "markdown",
   "metadata": {},
   "source": [
    "Beim Schreiben von Code und beim Umgang mit Daten aus verschiedenen Quellen gibt es zwei Möglichkeiten, um sicherzustellen, ob die verwendeten Daten gültig sind. Eine Möglichkeit besteht darin, vor dem eigentlichen Code sicherzustellen, dass beispielsweise das Format der Daten korrekt ist. In Python kann die Anweisung `assert` verwendet werden, um eine Bedingung zu überprüfen, die an die Daten gestellt wird. Wenn die Bedingung nicht erfüllt ist, führt dies zu einem Programmabbruch mit einem `AssertionError`. Hier ist ein Beispiel:\n"
   ]
  },
  {
   "cell_type": "code",
   "execution_count": null,
   "metadata": {},
   "outputs": [],
   "source": [
    "answer = 43\n",
    "assert answer == 42, \"A wrong answer was provided!\"\n",
    "\n",
    "# my code from here on"
   ]
  },
  {
   "cell_type": "markdown",
   "metadata": {},
   "source": [
    "Bevor der eigene Code ausgeführt wird kann der Code entsprechend umgewandelt werden:"
   ]
  },
  {
   "cell_type": "code",
   "execution_count": null,
   "metadata": {},
   "outputs": [],
   "source": [
    "answer = 43\n",
    "if answer != 42:\n",
    "    print('Your answer is not the answer to life, the universe and everything. I asjusted it for you.')\n",
    "    answer = 42\n",
    "\n",
    "assert answer == 42, \"A wrong answer was provided!\"\n",
    "\n",
    "# my code from here on"
   ]
  },
  {
   "cell_type": "markdown",
   "metadata": {},
   "source": [
    "In Python ist es auch möglich, Code zu schreiben, der Fehler erwartet und dann basierend auf dem aufgetretenen Fehler einen anderen Code ausführt. Schauen wir uns das zu Beginn erwähnte Beispiel mit der Subtraktion zweier Zeichenketten noch einmal an. Die Subtraktion führt zu folgender Ausgabe:\n"
   ]
  },
  {
   "cell_type": "code",
   "execution_count": null,
   "metadata": {},
   "outputs": [],
   "source": [
    "a, b = \"Someone\", \"one\"\n",
    "print(a - b)"
   ]
  },
  {
   "cell_type": "markdown",
   "metadata": {},
   "source": [
    "Wir erwarten also einen `TypeError`. Diesen können wir mithilfe der `try`-`except`-(`finally`) Funktionalität von Python sauber behandeln. Der Code würde dann wie folgt aussehen:"
   ]
  },
  {
   "cell_type": "code",
   "execution_count": null,
   "metadata": {},
   "outputs": [],
   "source": [
    "try:\n",
    "    a - b\n",
    "except TypeError:\n",
    "    print(\"Es wurde versucht, einen String von einem String abzuziehen. Wende statdessen die Funktion .replace() an.\")\n",
    "    print(a.replace(b, \"\"))\n",
    "finally:  # dieser Block wird immer ausgeführt, kann aber auch weggelassen werden\n",
    "    print(\"Es gab keine weiteren Fehler.\")"
   ]
  },
  {
   "cell_type": "markdown",
   "metadata": {},
   "source": [
    "Nach dem `except`-Block kann entweder ein erwarteter Fehler oder ein Tupel von verschiedenen Fehlern angegeben werden. Es ist auch möglich, keinen Fehler anzugeben, jedoch ist das nicht ratsam, da dann nicht ersichtlich ist, welcher Fehler zu diesem Abschnitt geführt hat. \n",
    "\n",
    "In Python bietet diese Struktur eine  Methode, um mit potenziellen Fehlern in einem Code umzugehen. Diese Konstruktion erlaubt es uns, unseren Code auf robuste Weise zu schreiben, indem wir auf vorherbare Fehler reagieren und geeignete Maßnahmen ergreifen können, anstatt dass das Programm einfach abstürzt. Durch das Umhüllen kritischer Codeabschnitte mit einem try-Block können wir nach spezifischen Fehlern suchen und sie mit dem entsprechenden except-Block abfangen, um alternative Aktionen auszuführen oder Fehlerinformationen zu erfassen. Dies erhöht nicht nur die Verlässlichkeit unserer Anwendungen, sondern erleichtert auch die Fehlersuche."
   ]
  },
  {
   "cell_type": "markdown",
   "metadata": {},
   "source": [
    "Ein Anwendungsfall könnte zum Beispiel eine erweiterte Version der `square`-Funktion sein, die sowohl Zahlen als auch Listen akzeptiert:"
   ]
  },
  {
   "cell_type": "code",
   "execution_count": null,
   "metadata": {},
   "outputs": [],
   "source": [
    "def modified_square_function(number):\n",
    "    try:\n",
    "        return number ** 2\n",
    "    except TypeError:\n",
    "        return [i ** 2 for i in number]\n",
    "print(modified_square_function(5))\n",
    "print(modified_square_function([1, 2, 3]))"
   ]
  }
 ],
 "metadata": {
  "kernelspec": {
   "display_name": "jup_server_state",
   "language": "python",
   "name": "python3"
  },
  "language_info": {
   "codemirror_mode": {
    "name": "ipython",
    "version": 3
   },
   "file_extension": ".py",
   "mimetype": "text/x-python",
   "name": "python",
   "nbconvert_exporter": "python",
   "pygments_lexer": "ipython3",
   "version": "3.10.12"
  },
  "orig_nbformat": 4
 },
 "nbformat": 4,
 "nbformat_minor": 2
}
