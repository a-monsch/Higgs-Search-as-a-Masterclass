{
 "cells": [
  {
   "cell_type": "markdown",
   "metadata": {},
   "source": [
    "#### Hinweise zum Ablauf des Notebooks:\n",
    "---\n",
    "<div class=\"alert alert-info\">\n",
    "Das Notebook ist in Abschnitte unterteilt, die den Schülerinnen und Schülern die Möglichkeit geben, eigenständig zu arbeiten und zu experimentieren. Diese Abschnitte werden von Erklärungen und Beschreibungen unterbrochen, die sicherstellen sollen, dass die grundlegenden Konzepte verstanden wurden. Die Erklärungen und Beschreibungen können auch außerhalb des Notebooks erfolgen, beispielsweise durch mündliche Erklärungen, interaktive Diskussionen oder an der Tafel. Falls es Fragen zum Code oder zum Verständnis gibt, können die Schülerinnen und Schüler diese jederzeit stellen. Gelegentlich kann es vorkommen, dass Fragen schriftlich beantwortet werden müssen, bevor sie in einem kurzen Gespräch besprochen werden.\n",
    "\n",
    "Die Diskussionen und Erklärungen können auch in den Markdown-Zellen festgehalten werden, um später darauf zurückgreifen zu können. Bitte beachten Sie, dass für die Bearbeitung der Aufgabe grundlegende Kenntnisse in Python erforderlich sind. Im Idealfall sollten die Schülerinnen und Schüler bereits an der CMS Masterclass oder einem ähnlichen Programm teilgenommen haben, um einige der Konzepte bereits kennengelernt zu haben.\n",
    "</div>"
   ]
  },
  {
   "cell_type": "markdown",
   "metadata": {},
   "source": [
    "#### Was in diesem Notebook angeschnitten wird:\n",
    "---\n",
    "\n",
    "1) Handhaben von großen Datensätzen\n",
    "    * Betrachten und Verarbeiten von großen Datensätzen\n",
    "    * Unterschied zwischen simulierten und tatsächlich gemessenen Daten\n",
    "    * Visualisierung von physikalischen Größen mithilfe von Histogrammen\n",
    "2) Algorithmenentwicklung für eine Teilchen-Rekonstruktion\n",
    "    * Verwendung von Informationen aus den CMS-Detektoren, um Teilchen (Kandidaten für Z und Higgs Bosonen) zu rekonstruieren\n",
    "3) Motivation einiger (neuer) physikalischer Kriterien zur besseren Untergrundunterdrückung\n",
    "    * Erklärung der Bedeutung von physikalischen Kriterien, wie z.B. der invarianten Masse, dem, Transversalimpuls, der relativen Isolation\n",
    "4) Anwendung der physikalischen Kriterien zur Untergrundunterdrückung\n",
    "5) Bestimmung der Signifikanz eines Überschusses und Ableitung bzgl. einer möglichen Beobachtung\n",
    "    * Verwendung von einfachen statistischen Methoden zur Berechnung der Signifikanz von Signalereignissen gegenüber dem Untergrund\n",
    "    * Diskussion von möglichen Beobachtungen und Interpretation der Ergebnisse\n",
    "    \n",
    "Es wird empfohlen, dass die Schülerinnen und Schüler über grundlegende Python-Kenntnisse verfügen, um das Notebook bearbeiten zu können. Auch ist es möglich, die notwendigen Python Kenntnisse während des Bearbeitens, z.B. in weiteren Code Zellen, näherzubringen. Auch können einige der Konzepte, die in diesem Notebook vorkommen, durch CMS-Masterclass oder ähnlichen Veranstaltungen bereits bekannt sein und bauen stellenweise darauf auf.\n"
   ]
  },
  {
   "cell_type": "markdown",
   "metadata": {},
   "source": [
    "## Suche nach dem Higgs Boson im $\\mathrm{H} \\rightarrow ZZ \\rightarrow 4\\ell$ Kanal.\n",
    "#### ein vereinfachter Ausschnitt einer Analyse\n",
    "---"
   ]
  },
  {
   "cell_type": "markdown",
   "metadata": {},
   "source": [
    "In der nachfolgenden Zelle werden Bibliotheken und Hilfefunktionen importiert, die für die Bearbeitung der Aufgabe benötigt werden. Die Verwendung von Bibliotheken und Funktionen, die bereits von anderen Entwicklern erstellt wurden, spart Zeit und vermeidet das Schreiben von redundanter Code. Es ist daher eine gängige Praxis, Bibliotheken und Funktionen zu importieren, die für die Entwicklung und Durchführung von Experimenten benötigt werden."
   ]
  },
  {
   "cell_type": "code",
   "execution_count": null,
   "metadata": {},
   "outputs": [],
   "source": [
    "from IPython.display import display\n",
    "import numpy as np\n",
    "import pandas as pd\n",
    "from pprint import pprint\n",
    "\n",
    "from utils import Filter, get_lepton_names_by_flavour, prev_hists, plot_masses, clear_previous_used_hists"
   ]
  },
  {
   "cell_type": "markdown",
   "metadata": {},
   "source": [
    "Zunächst laden wir die Datensätze in das Notebook. Diese beinhalten Simulationen für den Untergrund und das Signal, welches in Form eines Higgs-Bosons mit einer Masse von $125\\, \\mathrm{GeV}/c^2$ angenommen wird. Wir laden auch die tatsächlich durchgeführte Messung für die anfängliche Visualisierung. Die tatsächliche Anwendung auf die durchgeführte Messung erfolgt erst zum Schluss."
   ]
  },
  {
   "cell_type": "code",
   "execution_count": null,
   "metadata": {},
   "outputs": [],
   "source": [
    "dfs = pd.read_csv(\"data/MC_2012_H_to_ZZ_to_4L_[100,151].csv.gz\", header=[0, 1])  # signal MC\n",
    "dfb = pd.read_csv(\"data/MC_2012_ZZ_to_4L_[100,151].csv.gz\", header=[0, 1])  # signal MC\n",
    "dfm = pd.read_csv(\"data/CMS_Run2012[B,C]_[100,151].csv.gz\", header=[0, 1])\n",
    "\n",
    "print(\"Signal simulation\")\n",
    "display(dfs.head())\n",
    "\n",
    "print(\"Background simulation\")\n",
    "display(dfb.head())\n"
   ]
  },
  {
   "cell_type": "markdown",
   "metadata": {},
   "source": [
    "In den geladenen Datensätzen sind immer jeweils vier Leptonen enthalten, die mit den Bezeichnungen `lepton_0`, `lepton_1`, `lepton_2` und `lepton_3` gekennzeichnet sind. Diese Leptonen werden, die Rekonstruktion von Z-Boson Kandidaten und der Anwendung einiger der Filter benötigt. Um auf die Leptonen in den Datensätzen zuzugreifen, können wir die Syntax `dataframe[\"lepton_0\"]`, ähnlich zu dem nativen Python `dict` verwenden."
   ]
  },
  {
   "cell_type": "code",
   "execution_count": null,
   "metadata": {},
   "outputs": [],
   "source": [
    "dfs[\"lepton_0\"]"
   ]
  },
  {
   "cell_type": "markdown",
   "metadata": {},
   "source": [
    "\n",
    "Auf einzelne Größen wie die Energie, den Impuls o. Ä. kann dann via `dataframe[\"lepton_0\"][\"px\"]` oder `dataframe[[\"lepton_0\", \"lepton_1\"]][\"px\"]` zugegriffen werden. `\"flavour\"` unterscheidet zwischen einem Myon `0` und einem Elektron `1`. Im Detail wird diese Unterscheidung, sowie die elektrische Ladung `charge` lediglich beim Rekonstruktionsschritt benötigt. Die Größe `relpfiso` wird bei der Anwendung eines Filterschrittes benötigt und wird zu einem späteren Zeitpunkt an der Tafel motiviert. \n",
    "\n",
    "Mit `dataframe[\"lepton_0\"][\"px\"]` oder `dataframe[[\"lepton_0\", \"lepton_1\"]][\"px\"]` kann auf bestimmte Größen wie den Impuls oder die Energie der einzelnen Leptonen zugegriffen werden. `\"flavour\"` unterscheidet dabei zwischen einem Myon (`0`) und einem Elektron (`1`). Diese Unterscheidung und auch die Angabe der elektrischen Ladung `\"charge\"` werden später beim Rekonstruktionsschritt benötigt.\n",
    "\n",
    "Die Größe `relpfiso` (relative Isolation des jeweiligen Teilchens) wiederum wird erst bei einem späteren Filterschritt benötigt und ist für die nachfolgende Rekonstruktion nicht notwendig. Es ist gängig, alle notwendigen Informationen zu Teilchen o. Ä. in einem Datensatz zusammenzufassen, um diese nicht später hinzuzufügen zu müssen."
   ]
  },
  {
   "cell_type": "markdown",
   "metadata": {},
   "source": [
    "Um den Umgang mit den Datensätzen besser zu verinnerlichen, können wir eine erste Aufgabe angehen:\n",
    "\n",
    "<div class=\"alert alert-info\">\n",
    "Zeige die Impulskomponente in Z-Richtung (also die Impulskomponente entlang der Strahlachse) für das dritte und vierte Lepton im Datensatz an.\n",
    "\n",
    "Hier ein paar Schritte, die dir helfen können, die Aufgabe zu lösen:\n",
    "\n",
    "Verwende den Datensatz, den wir in der vorherigen Zelle geladen haben.\n",
    "Greife auf die Impulskomponente in Z-Richtung eines Leptons zu, indem du den Index des Leptons und den String \"pz\" kombinierst.\n",
    "Denke daran, dass die Indizierung in Python bei 0 beginnt, d.h. das erste Lepton hat den Index 0, das zweite den Index 1 usw.\n",
    "Wenn du diese Schritte befolgst, solltest du in der Lage sein, die Impulskomponente in Z-Richtung für das dritte und vierte Lepton aus dem Datensatz auszulesen.\n",
    "</div>"
   ]
  },
  {
   "cell_type": "code",
   "execution_count": null,
   "metadata": {},
   "outputs": [],
   "source": [
    "# Leere Zelle für die Aufgabe"
   ]
  },
  {
   "cell_type": "markdown",
   "metadata": {},
   "source": [
    "Um das Verständnis der Datensätze zu vertiefen, ist es wichtig zu wissen, dass neben den Leptonen auch Informationen zu den zu rekonstruierenden Objekten `\"Z1\"` und `\"Z2\"` vorhanden sind. Diese Objekte sind Kandidaten für die Z-Bosonen und werden aus im nachfolgenden Rekonstruktionsschritt aus den Leptonen zusammengesetzt, die in einem Ereignis vorhanden sind. Der daraus resultierende `\"four_lep\"` Eintrag ist der Kandidat für das Higgs-Boson. Ebenso wie die Leptonen haben die Z und Higgs Kandidaten ebenfalls eine Energie und einen Impuls, welcher in die einzelnen Komponenten aufgeteilt werden kann. \n",
    "\n",
    "Es ist zu beachten, dass `\"Z1\"`, `\"Z2\"` und `\"four_lep\"` initial leer sind und mit `NaN`s gefüllt sind, bis sie im Rekonstruktionsschritt für jedes Ereignis berechnet und eingetragen werden.\n",
    "\n",
    "Zusätzlich wird mit `dataframe[\"event_informations\"][\"channel\"]` zwischen den verschiedenen Zerfallskanälen unterschieden. Es gibt den Kanal mit vier Leptonen gleichen Flavours, also entweder vier Myonen (`0`) oder vier Elektronen (`1`), und den Mischkanal mit zwei Myonen und zwei Elektronen (`2`). Diese Information ist relevant für die Rekonstruktion, da die Z-Bosonen nur in ein Leptonen-Paar des gleichen Flavours zerfallen kann, es also in der Rekonstruktion von den Z-Bosonen Kandidaten berücksichtigt werden muss."
   ]
  },
  {
   "cell_type": "markdown",
   "metadata": {},
   "source": [
    "Vor dem Rekonstruktionsprozess muss einige Vorarbeiten geleistet werden, um die benötigten Größen berechnen zu können. Eine solche zentrale Größe ist die invariante Masse, die aus den Impulsen und Energien der Zerfallsprodukte oder des jeweiligen Teilchens berechnet werden kann.\n",
    "\n",
    "Die invariante Masse ist eine wichtige Größe in der Teilchenphysik, da sie eine Aussage darüber gibt, welche Teilchen an einem bestimmten Zerfall beteiligt sind. Sie ist insofern \"invariant\", als sie unabhängig von der Wahl des Bezugssystems ist. Dies bedeutet, dass die invariante Masse für dasselbe Teilchenpaar in verschiedenen Bezugssystemen immer denselben Wert hat.\n",
    "\n",
    "In der Anwendung wird die invariante Masse oft zur Teilchenidentifikation verwendet, welche durch den Zerfall eines anderen Teilchens entstanden sind. Hierbei kann die invariante Masse des Zerfallsprodukts mit der Masse eines bestimmten Teilchens verglichen. Für den Fall, dass die berechnete invariante Masse in der Nähe der bekannten Masse eines bekannten Teilchens liegt, kann man mit hoher Wahrscheinlichkeit davon ausgehen, dass das Zerfallsprodukt aus diesem Teilchen stammt.\n",
    "<div class=\"alert alert-info\">\n",
    "Wie ist die invariante Masse für ein Teilchen definiert?\n",
    "Wie sieht die Definition für mehrere Teilchen aus?\n",
    "\n",
    "Implementieren Sie die Berechnung der invarianten Masse für ein Teilchen in der nachfolgenden `calculate_invariant_mass` Funktion.\n",
    "</div>"
   ]
  },
  {
   "cell_type": "code",
   "execution_count": null,
   "metadata": {},
   "outputs": [],
   "source": [
    "# Berechnung der Invarianten Masse\n",
    "def calculate_invariant_mass(energy, px, py, pz):\n",
    "    # Berechne den Quadrat der invarianten Masse, wenn die Energie und einzelnen Impulskomponenten gegeben sind\n",
    "    mass_square = energy ** 2 - px ** 2 - py ** 2 - pz ** 2\n",
    "\n",
    "    # Da diese Funktion allgemein Funktionieren soll muss der Fall betrachtet werden, dass\n",
    "    # mass_square < 0 ergibt. Dies ist nicht physikalishc und wird durch np.nan (not a number) ersetzt\n",
    "    try:\n",
    "        # Für den Fall, dass es sich bei energy, px, py, pz jeweils nur um eine Zahl handelt:\n",
    "        return np.nan if mass_square < 0 else np.sqrt(mass_square)\n",
    "    except ValueError:\n",
    "        # Für den Fall, dass es sich bei energy, px, py, pz jeweils um numpy arrays handelt\n",
    "        mass_square[mass_square < 0] = np.nan\n",
    "        return np.sqrt(mass_square)\n",
    "    \n",
    "# Mögliche Variablen für das Testen... um welches Teilchen könnte es sich handeln? \n",
    "particle_E = 97.5   # GeV\n",
    "particle_px = 7.8   # GeV\n",
    "particle_py = 32.5  # GeV\n",
    "particle_pz = 13.9  # GeV\n",
    "print(calculate_invariant_mass(particle_E, particle_px, particle_py, particle_pz))\n",
    "\n",
    "# Bei mehreren gebenen Teilchen\n",
    "particle_E  = np.array([97.5, 48.4])   # GeV\n",
    "particle_px = np.array([7.8, 3.2])   # GeV\n",
    "particle_py = np.array([32.5, 21.7])  # GeV\n",
    "particle_pz = np.array([13.9,36.1])  # GeV\n",
    "print(calculate_invariant_mass(particle_E, particle_px, particle_py, particle_pz))\n",
    "\n",
    "# Bei mehreren gebenen Teilchen, welche in der Rekonstruktion kombiniert werden können\n",
    "print(calculate_invariant_mass(particle_E.sum(), particle_px.sum(), particle_py.sum(), particle_pz.sum()))"
   ]
  },
  {
   "cell_type": "markdown",
   "metadata": {},
   "source": [
    "Die Berechnung der Invarianten Massen wird im Weiteren auch für die Darstellung der Masseverteilungen verwendet. Der hierzu verwendeten Funktion `plot_masses` wird die `calculate_invariant_mass` Funktion übergeben. Um es nicht ständig übergeben zu müssen, wird diese als die Defaultfunktion mittels `partial` wie folgt gesetzt:"
   ]
  },
  {
   "cell_type": "code",
   "execution_count": null,
   "metadata": {},
   "outputs": [],
   "source": [
    "from functools import partial\n",
    "plot_masses = partial(plot_masses, mass_function=calculate_invariant_mass)"
   ]
  },
  {
   "cell_type": "markdown",
   "metadata": {},
   "source": [
    "Als Nächstes folgt der eigentliche Rekonstruktionsschritt. Die Motivation hinter der Vorgehensweise wird an der Tafel besprochen. Anschließend soll die `perform_reconstruction` Funktion mit dem zusätzlichen Wissen um einige Code-Abschnitte ergänzt werden, um eine erfolgreiche Rekonstruktion durchzuführen."
   ]
  },
  {
   "cell_type": "code",
   "execution_count": null,
   "metadata": {},
   "outputs": [],
   "source": [
    "from tqdm import tqdm\n",
    "import time\n",
    "\n",
    "def perform_reconstruction(df):\n",
    "    z_boson_mass = 91.1876  # Die Masse des Z-Bosons in GeV/c^2\n",
    "\n",
    "    loop_timer = time.time()\n",
    "    \n",
    "    # Schleife über jedes Ereignis im DataFrame unter Verwendung der tqdm-Bibliothek zur Fortschrittsanzeige\n",
    "    for i, event in tqdm(enumerate(df.iloc()), total=df.shape[0]):\n",
    "        # Wenn das Ereignis im Misch-Kanal ist\n",
    "        if event.event_information.channel == 2:\n",
    "            muon_1, muon_2 = get_lepton_names_by_flavour(event, flavour=0)  # Leptonen die Myonen entsprechen\n",
    "            electron_1, electron_2 = get_lepton_names_by_flavour(event, flavour=1)  # Leptonen die Elektronen entsprechen\n",
    "\n",
    "            # Kombiniere alle möglichen Leptonenpaare (hier nur Muon-Muon- und Elektron-Elektron-Paare)\n",
    "            possible_lepton_pairs = [(muon_1, muon_2), (electron_1, electron_2)]\n",
    "\n",
    "        else:\n",
    "            # Wenn das Ereignis nur Elektronen/Myonen hat, kombiniere alle möglichen\n",
    "            # Leptonenpaare (in diesem Fall alle Kombinationen von vier Leptonen)\n",
    "            #\n",
    "            # Wie viele Kombinationsmöglichkeiten existieren bei 4 Leptonen? \n",
    "            # Wie viele Kombinationen entstehen, wenn 5 oder 6 Leptonen betrachtet werden?\n",
    "            #\n",
    "            # Schreibe alle Kombinationsmöglichkeiten für vier Leptonen auf, orientiere dich an\n",
    "            # den ersten zwei gegebenen Kombinationen\n",
    "            possible_lepton_pairs = [\n",
    "                (\"lepton_0\", \"lepton_1\"),\n",
    "                (\"lepton_0\", \"lepton_2\"),\n",
    "                (\"lepton_0\", \"lepton_3\"),\n",
    "                (\"lepton_1\", \"lepton_2\"),\n",
    "                (\"lepton_1\", \"lepton_3\"),\n",
    "                (\"lepton_2\", \"lepton_3\"),\n",
    "            ]\n",
    "\n",
    "        z_candidates = {}  # Zum speicheren aller Kandidaten für die Z-Bosonen\n",
    "        for first_lepton, second_lepton in possible_lepton_pairs:\n",
    "            # Summation der Impulskomponenten/Energien der Leptonen\n",
    "            combined_px = event[first_lepton][\"px\"] + event[second_lepton][\"px\"]\n",
    "            combined_py = event[first_lepton][\"py\"] + event[second_lepton][\"py\"]\n",
    "            combined_pz = event[first_lepton][\"pz\"] + event[second_lepton][\"pz\"]\n",
    "            combined_E = event[first_lepton][\"E\"] + event[second_lepton][\"E\"]\n",
    "\n",
    "            # Berechne die invariante Masse des Leptonenpaares durch die implementierte Funktion\n",
    "            M = calculate_invariant_mass(combined_E, combined_px, combined_py, combined_pz)\n",
    "\n",
    "            # Überprüfe, ob die kombinierten Leptonen eine elektrische Gesamtladung von Null haben\n",
    "            combined_electric_charge = event[first_lepton][\"charge\"] + event[second_lepton][\"charge\"]\n",
    "            if combined_electric_charge == 0:\n",
    "                # Wenn ja, speichere die Impuls- und Masseninformationen des Leptonenpaares als Kandidat für das Z-Boson\n",
    "                z_candidates[(first_lepton, second_lepton)] = {\n",
    "                    \"px\": combined_px, \n",
    "                    \"py\": combined_py, \n",
    "                    \"pz\": combined_pz, \n",
    "                    \"E\": combined_E, \n",
    "                    \"M\": M, \n",
    "                }\n",
    "\n",
    "        # Hier wird nach einem Z-Boson Kandidat gesucht, welcher am nächsten bei der Z-Bosonen Masse ist\n",
    "        # Hierzu erstellen wir zunächst zwei Defaults\n",
    "        nearest_z_mass_lepton_pair, nearest_candidate_z_mass_to_z_boson = None, 9999\n",
    "        # Und iterieren über alle Z-Boson Kandidaten\n",
    "        for lepton_pair, z_values in z_candidates.items():\n",
    "            # Sofern der aktuelle Kandidat näher an der Z-Bosonen Masse wird das dazugehörige Leptonenpaar\n",
    "            # und der Abstand zu der Z-Bosonen Masse gespeichert und nach einem besseren Kandidaten gesucht\n",
    "            if abs(z_boson_mass - z_values[\"M\"]) < nearest_candidate_z_mass_to_z_boson:\n",
    "                nearest_candidate_z_mass_to_z_boson = abs(z_boson_mass - z_values[\"M\"])\n",
    "                nearest_z_mass_lepton_pair = lepton_pair\n",
    "\n",
    "        # Wenn dieser Kandidat gefunden wurde:\n",
    "        if nearest_z_mass_lepton_pair is not None:\n",
    "            # Die Energie und alle Impulskomponente von Z1 werden entsprechend gesetzt\n",
    "            df.loc[i, (\"Z1\", \"E\")] = z_candidates[nearest_z_mass_lepton_pair][\"E\"]\n",
    "            df.loc[i, (\"Z1\", \"px\")] = z_candidates[nearest_z_mass_lepton_pair][\"px\"]\n",
    "            df.loc[i, (\"Z1\", \"py\")] = z_candidates[nearest_z_mass_lepton_pair][\"py\"]\n",
    "            df.loc[i, (\"Z1\", \"pz\")] = z_candidates[nearest_z_mass_lepton_pair][\"pz\"]\n",
    "\n",
    "            # Alle Kombinationen, welche eines der Leptonen von nearest_z_mass_lepton_pair beinhalten\n",
    "            # werden entfernt\n",
    "            first_used_lepton, second_used_lepton = nearest_z_mass_lepton_pair\n",
    "            for lepton_pair in list(z_candidates.keys()):\n",
    "                if first_used_lepton in lepton_pair or second_used_lepton in lepton_pair:\n",
    "                    z_candidates.pop(lepton_pair)  # Hier wird es entfernt, wenn die obige Bedingung erfüllt wird (*)\n",
    "\n",
    "        # Anschließend suchen wir bei den übrigen Z-Boson Kandidaten (Wie viele sind noch übrig?)\n",
    "        # nach dem Z-Boson Kandidaten für das zweite Z-Boson und wählen den Kandidatena us mit dem größten\n",
    "        # Transversalimpuls.\n",
    "        # Hierzu wieder zwei Default-Werte\n",
    "        highest_remaining_z_pt_lepton_pair, highest_remaining_z_pt = None, 0\n",
    "        # Iteration über die übrigen Z-Boson Kandidaten welche noch übrig sind (siehe (*) oben) \n",
    "        for lepton_pair, z_values in z_candidates.items():\n",
    "            # Berechnung des Transversalimpulses von dem jeweiligen Z-Boson\n",
    "            pt = np.sqrt(z_values[\"px\"] ** 2 + z_values[\"py\"] ** 2)\n",
    "            # Merken des Kandidaten, wenn dieser einen größeren Transversalimpuls hat als \n",
    "            # der bisher gefundene Kandidat\n",
    "            if pt > highest_remaining_z_pt:\n",
    "                highest_remaining_z_pt = pt\n",
    "                highest_remaining_z_pt_lepton_pair = lepton_pair\n",
    "\n",
    "        # Sollte dieser zweite Kandidat existieren wird dieser entsprechend gesetzt\n",
    "        if highest_remaining_z_pt_lepton_pair is not None:\n",
    "            df.loc[i, (\"Z2\", \"E\")] = z_candidates[highest_remaining_z_pt_lepton_pair][\"E\"]\n",
    "            df.loc[i, (\"Z2\", \"px\")] = z_candidates[highest_remaining_z_pt_lepton_pair][\"px\"]\n",
    "            df.loc[i, (\"Z2\", \"py\")] = z_candidates[highest_remaining_z_pt_lepton_pair][\"py\"]\n",
    "            df.loc[i, (\"Z2\", \"pz\")] = z_candidates[highest_remaining_z_pt_lepton_pair][\"pz\"]\n",
    "\n",
    "    print(f\"Die Rekonstruktion, welche eine Schleife benutzt benötigte {time.time() - loop_timer} Sekunden\")\n",
    "\n",
    "    vectorized_timer = time.time()\n",
    "\n",
    "    # Sollten beide Z-Boson Kandidaten existieren, dann werden die Energie und Transversalimpulskomponenten von\n",
    "    # den beiden Z-Boson Kandidaten kombiniert und Higgs Boson Kandidaten bestehend aus vier Leptonen bestimmt.\n",
    "    # Da hier keine Kombinatorik notwendig, ist können wir die Addition Spaltenweise durchführen, was deutlich schneller\n",
    "    # ist als der Event Loop\n",
    "    if nearest_z_mass_lepton_pair is not None and highest_remaining_z_pt_lepton_pair is not None:\n",
    "        df.loc[:, (\"four_lep\", \"E\")] = df.loc[:, (\"Z1\", \"E\")] + df.loc[:, (\"Z2\", \"E\")]\n",
    "        df.loc[:, (\"four_lep\", \"px\")] = df.loc[:, (\"Z1\", \"px\")] + df.loc[:, (\"Z2\", \"px\")]\n",
    "        df.loc[:, (\"four_lep\", \"py\")] = df.loc[:, (\"Z1\", \"py\")] + df.loc[:, (\"Z2\", \"py\")]\n",
    "        df.loc[:, (\"four_lep\", \"pz\")] = df.loc[:, (\"Z1\", \"pz\")] + df.loc[:, (\"Z2\", \"pz\")]\n",
    "\n",
    "    print(f\"Die Rekonstruktion, welche Spaltenweise die Größen berechnete benötigte {time.time() - vectorized_timer} Sekunden\")\n",
    "\n",
    "    # Ausgabe des nun vollständigen Datensatzes\n",
    "    return df\n",
    "            "
   ]
  },
  {
   "cell_type": "markdown",
   "metadata": {},
   "source": [
    "Mit der so vervollständigten Funktion kann die Rekonstruktion für alle Datensätze durchgeführt werden.\n",
    "\n",
    "\n",
    "Da dieser Schritt länger dauert, is es ratsam nach einer erfolgreichen Rekonstruktion die nun vollständigen Datensätze zwischenzuspeichern und beim neu starten das Notebook diesen rekonstruierten Datensatz direkt zu laden und den Rekonstruktionsschritt überspringen. Folgender Code kann für das Speichern ausgeführt werden. Wichtig ist hier, dass der neue Ordner bereits vorhanden sein muss.\n",
    "\n",
    "Sollte die Datensätze in dem neuen Ordner nicht gefunden werden, dann startet die Rekonstruktion und ergänzt die so geladenen Datensätze. Anschließend werden diese dann in dem entsprechenden Ordner gespeichert. Beim nochmaligem Ausführen werden diese Datensätze gefunden und direkt geladen\n",
    "\n",
    "Da während des Rekonstruktionsschrittes keine weitere Aktion in dem Notebook möglich ist, kann eine Pause eingelegt werden."
   ]
  },
  {
   "cell_type": "code",
   "execution_count": null,
   "metadata": {},
   "outputs": [],
   "source": [
    "import os\n",
    "\n",
    "new_directory = \"data_reconstructed\"\n",
    "\n",
    "os.makedirs(new_directory, exist_ok=True)\n",
    "\n",
    "try:\n",
    "    dfs = pd.read_csv(os.path.join(new_directory, \"MC_2012_H_to_ZZ_to_4L_[100,151].csv.gz\"), header=[0, 1])\n",
    "    dfb = pd.read_csv(os.path.join(new_directory, \"MC_2012_ZZ_to_4L_[100,151].csv.gz\"), header=[0, 1])\n",
    "    dfm = pd.read_csv(os.path.join(new_directory, \"CMS_Run22[B,C]_[100,151].csv.gz\"), header=[0, 1])\n",
    "except FileNotFoundError:\n",
    "    dfs = perform_reconstruction(dfs)\n",
    "    dfb = perform_reconstruction(dfb)\n",
    "    dfm = perform_reconstruction(dfm)\n",
    "    dfs.to_csv(os.path.join(new_directory, \"MC_2012_H_to_ZZ_to_4L_[100,151].csv.gz\"), index=False)\n",
    "    dfb.to_csv(os.path.join(new_directory, \"MC_2012_ZZ_to_4L_[100,151].csv.gz\"), index=False)\n",
    "    dfm.to_csv(os.path.join(new_directory, \"CMS_Run22[B,C]_[100,151].csv.gz\"), index=False)"
   ]
  },
  {
   "cell_type": "markdown",
   "metadata": {},
   "source": [
    "Als Nächstes werden die ausgewählten Kandidaten für Z-Bosonen und Higgs-Bosonen als Massenverteilungen visualisiert. Dabei wird die Rolle von Verteilungen in der Physik und der Aspekt des Zufalls in der Quantenphysik an der Tafel besprochen. Für die tatsächliche Visualisierung der betrachteten Größen wird die `plot_masses` Hilfsfunktion genutzt. Die beispielhafte Nutzung wird in der nachfolgenden Zelle dargestellt. Vor jeder Nutzung können die früher verwendeten Histogramme über `clear_previous_used_hists()` zurückgesetzt werden. Die Betrachtung dieser wird vor allem in dem nächsten Abschnitt hilfreich sein. Diese Funktionen können und sollen auch an anderen Stellen weiterverwendet werden. \n",
    "<div class=\"alert alert-info\">\n",
    "    Was ist auffällig bei dem Vergleich der Massenverteilungen der invarianten Masse der vier Leptonen? \n",
    "    Welche der Verteilungen sehen ähnlich aus?\n",
    "</div>\n",
    "\n",
    "Anschließend werden vorerst nur die Rohverteilungen der Simulationen betrachtet, welche noch nicht skaliert wurden. Die Massenverteilung der Messung werden wir erst nach dem nächsten Schritt verwenden."
   ]
  },
  {
   "cell_type": "code",
   "execution_count": null,
   "metadata": {},
   "outputs": [],
   "source": [
    "clear_previous_used_hists()\n",
    "dfs.pipe(plot_masses, filter_name=\"Ungefiltert\", title=\"Signal Simulation\")\n",
    "clear_previous_used_hists()\n",
    "dfb.pipe(plot_masses, filter_name=\"Ungefiltert\", title=\"Untergrund Simulation\")\n",
    "clear_previous_used_hists()\n",
    "dfm.pipe(plot_masses, filter_name=\"Ungefiltert\", title=\"Messung\")\n",
    "clear_previous_used_hists()"
   ]
  },
  {
   "cell_type": "markdown",
   "metadata": {},
   "source": [
    "Nachdem die Frage(n) beantwortet wurde(n), soll das Ziel verfolgt werden, die Datensätze so zu bereinigen, dass im besten Fall eine Resonanz von einem möglichen Higgs Boson zu sehen ist. Das gesamte Vorgehen soll anhand der simulierten Ereignisse durchgeführt werden, um keine Vorurteile in die Analyse einzubringen. In der Regel werden die Messdaten nicht direkt betrachtet, wie es oben durchgeführt wurde. Aus didaktischen Gründen ist es jedoch ratsam zu motivieren, warum die nachfolgende Bereinigung in Form von angewendeten Filtern angewendet werden sollte. \n",
    "\n",
    "Die Motivation einzelner Filter, insbesondere des Filters der relativen Isolation, wird an der Tafel motiviert, ebenso wie ein guter Anhaltspunkt für die Wahl der Grenzen bei den Intervallen der Massen der Z-Bosonen."
   ]
  },
  {
   "cell_type": "markdown",
   "metadata": {},
   "source": [
    "Die Anwendung einzelner Filter erfolgt sehr einfach über `dataframe.pipe(filtername, filterargumente).pipe(filername, filterargumente)....`\n",
    "\n",
    "Folgende Filter stehen zur Verfügung:\n",
    "\n",
    "* `Filter.min_pt_of_lepton` mit `min_pt_electron` und `min_pt_muon` als notwendige Argumente\n",
    "* `Filter.relative_isolation_of_lepton`, mit dem notwendigen `relative_isolation_value` Argument\n",
    "* `Filter.min_lepton_number` ist ein argumentloser Filter ebenso wie\n",
    "* `Filter.neutral_charge`, die nach jedem Einsatz von anderen Filtern angewendet werden sollte, da diese alle Ereignisse entfernen, in denen aufgrund der Anwendung von anderen Filtern nicht mehr vier Leptonen vorhanden sind oder keine elektrisch neutrale Ladungskombination mehr existiert.\n",
    "* `Filter.z_masses` mit den eingrenzenden Massenwerten `z1_mass_min`, `z1_mass_max`, `z2_mass_min`, `z2_mass_max`\n",
    "\n",
    "Alle festgelegten Werte können in einer gemeinsamen Sammlung gespeichert werden, um einen einfachen Zugriff darauf zu ermöglichen. Sobald sich auf ein Wert festgelegt wird, kann dieser den Default Wert überschreiben."
   ]
  },
  {
   "cell_type": "code",
   "execution_count": null,
   "metadata": {},
   "outputs": [],
   "source": [
    "filter_arguments = {\n",
    "    \"min_pt_electron\": 0,\n",
    "    \"min_pt_muon\": 0,\n",
    "    \"relative_isolation_value\": 9999,\n",
    "    \"z1_mass_min\": 0,\n",
    "    \"z2_mass_min\": 0,\n",
    "    \"z1_mass_max\": 9999,\n",
    "    \"z2_mass_max\": 9999,\n",
    "}"
   ]
  },
  {
   "cell_type": "code",
   "execution_count": null,
   "metadata": {},
   "outputs": [],
   "source": [
    "filter_arguments[\"min_pt_electron\"] = 7\n",
    "filter_arguments[\"min_pt_muon\"] = 5\n",
    "\n",
    "pprint(filter_arguments)\n",
    "\n",
    "clear_previous_used_hists()\n",
    "_ = (\n",
    "    dfb\n",
    "        .pipe(plot_masses, filter_name=\"Ungefiltert\", show_plot=False)\n",
    "        .pipe(Filter.min_pt_of_lepton, min_pt_electron=filter_arguments[\"min_pt_electron\"], min_pt_muon=filter_arguments[\"min_pt_muon\"])\n",
    "        .pipe(Filter.min_lepton_number)\n",
    "        .pipe(Filter.neutral_charge)\n",
    "        .pipe(plot_masses, filter_name=\"Nach minimum $p_T$ Filter\")\n",
    ")\n",
    "\n",
    "clear_previous_used_hists()\n",
    "_ = (\n",
    "    dfs\n",
    "        .pipe(plot_masses, filter_name=\"Ungefiltert\", show_plot=False)\n",
    "        .pipe(Filter.min_pt_of_lepton, min_pt_electron=filter_arguments[\"min_pt_electron\"], min_pt_muon=filter_arguments[\"min_pt_muon\"])\n",
    "        .pipe(Filter.min_lepton_number)\n",
    "        .pipe(Filter.neutral_charge)\n",
    "        .pipe(plot_masses, filter_name=\"Nach minimum $p_T$ Filter\")\n",
    ")"
   ]
  },
  {
   "cell_type": "markdown",
   "metadata": {},
   "source": [
    "Das Ziel besteht darin, eine größtmögliche Reduzierung des Untergrunds bei bestmöglicher Beibehaltung des Signals zu erreichen. Dabei kann generell das Problem auftauchen, dass die begrenzte Größe des Messdatensatzes die Freiheit bei der Wahl der spezifischen Filtergrenzen einschränkt. Die bestmöglichen Filterergebnisse bei den simulierten Datensätzen haben nur wenig Nutzen, wenn kaum noch Ereignisse in der tatsächlichen Messung vorhanden sind. Aus diesem Grund sollten die jeweiligen Filtergrenzen nicht extrem gewählt werden. Bei Fragen und Diskussionen über die jeweiligen Filtergrenzen kann jederzeit auch der Tutor hinzugezogen werden.\n",
    "\n",
    "Ein Beispiel ist der oben angewendete Filter nach dem minimalen Transversalimpuls. Er zeigt, dass die Reduktion der vier-Leptonen-invarianten Massenverteilung für den simulierten Untergrund größer im Vergleich zu dem Signal ist. Es ist möglich, dass weitere Filter größere Effekte zeigen als der Filter nach dem minimalen Transversalimpuls. Die Idee hinter diesem Filter besteht aber hauptsächlich darin, alle Leptonen zu entfernen, welche potenziell als solche fälschlich klassifiziert wurden. Die Unterscheidung in Elektronen und Myonen erfolgt lediglich aus dem Grund, dass die Myonen in dem Detektor besser detektiert werden können, weshalb sie einen geringeren minimalen Wert für den Transversalimpuls haben. Die gewählten Werte entsprechen den minimalen Transversalimpulsen, welche vom CMS Experiment gewählt wurden. Es ist möglich, größere Werte nach Wunsch selbstständig zu wählen.\n",
    "\n",
    "    Welchen Massenbereich der vier-Leptonen-invarianten Masse adressiert der Filter besser? Hierzu können unterschiedliche und auch extreme Werte ausprobiert werden.\n",
    "    Ab welchen Werten werden die meisten Ereignisse aus den Verteilungen herausgefiltert?\n",
    "    Gibt es eine Kombination an Werten, bei denen mehr Signalereignisse als Untergrundereignisse entfernt werden?\n",
    "\n",
    "Nach der Beantwortung der Fragen sollte die abschließende Wahl der Filtergrenzen getroffen werden. Sobald die Wahl getroffen ist, sollten diese nicht mehr geändert werden und (später endgültig) auf die Datensätze, einschließlich der tatsächlichen Messung, angewendet werden. Es wird empfohlen, eine Kopie dieses Datensatzes zu erstellen. Wenn die Datensätze groß sind, kann es vorkommen, dass eine solche Kopie RAM belegt, der nicht zur Verfügung steht. In diesem Fall muss eine andere Lösung gefunden werden. Für das Vorgehen hier reicht es, die Filter immer wieder anzuwenden und erst zum Schluss die Datensätze abzuspeichern, da der Filterschritt schnell genug abläuft."
   ]
  },
  {
   "cell_type": "markdown",
   "metadata": {},
   "source": [
    "---"
   ]
  },
  {
   "cell_type": "markdown",
   "metadata": {},
   "source": [
    "Der nächste Filter, welcher verwendet werden kann, ist der nach der relativen Isolation von einzelnen Leptonen. Die relative Isolation als ein Filterkriterium wird verwendet, um den Leptonen mit einem hohen Impuls herauszufiltern, welche aus Quark oder Gluonen-Jets stammen. Die Isolation gibt dabei  das Verhältnis zwischen der Summe der transversalen Impulse von Teilchen in der Nähe von dem betrachteten Lepton zu dem transversalen Impuls des jeweiligen Leptons an.\n",
    "\n",
    "Relative Isolation als solche ist ein sehr gutes Filterkriterium, da sie es ermöglicht, Ereignisse mit isolierten Leptonen, meist aus schwachen Zerfällen stammende, von Ereignissen mit nicht isolierten Leptonen (meist starke Wechselwirkungen) zu unterscheiden. Da die relative Isolation ein Verhältnis ist, ist sie auch unabhängig von der Energie des Leptons selbst und kann auf verschiedenen Energieskalen angewendet werden. Dies macht die relative Isolation zu einem vielseitigen Werkzeug, wenn Signalanreicherung das Ziel ist.\n",
    "\n",
    "Eine mögliche Visualisierung wird weiter bildlich zusammen mit dem Tutor erklärt.\n",
    "\n",
    "<div class=\"alert alert-info\">\n",
    "    Wende den Filter auf das Isolationskriterium auf das Signal und Untergrund Simulation an, mit einem anfänglichen Wert von 0.35.\n",
    "    Wende ebenfalls im gleichen Ablauf die bisher angewandten Filter mit dem Filter von dem minimalen Transversalimpuls.\n",
    "    Macht es einen Unterschied, in welcher Reihenfolge du die Filter für den Transversalimpuls und relativen Isolation anwendest?\n",
    "    Welche der beiden Datensätze werden stärker reduziert, wenn beide Filter angewendet werden?\n",
    "    Finde einen Wert für die relative Isolation (dieser sollte 0.3 nicht unterschreiten, da dadurch ein sehr großer Anteil an Messdaten verworfen wird).\n",
    "</div>"
   ]
  },
  {
   "cell_type": "code",
   "execution_count": null,
   "metadata": {},
   "outputs": [],
   "source": [
    "filter_arguments[\"relative_isolation_value\"] = 0.4\n",
    "\n",
    "pprint(filter_arguments)\n",
    "\n",
    "clear_previous_used_hists()\n",
    "_ = (\n",
    "    dfb\n",
    "        .pipe(plot_masses, filter_name=\"Ungefiltert\", show_plot=False)\n",
    "        .pipe(Filter.min_pt_of_lepton, min_pt_electron=filter_arguments[\"min_pt_electron\"], min_pt_muon=filter_arguments[\"min_pt_muon\"])\n",
    "        .pipe(Filter.min_lepton_number)\n",
    "        .pipe(Filter.neutral_charge)\n",
    "        .pipe(plot_masses, filter_name=r\"Nach minimum $p_T$ Filter ($p_T^{\\mathrm{min}}$)\", show_plot=False)\n",
    "        .pipe(Filter.relative_isolation_of_lepton, relative_isolation_value=filter_arguments[\"relative_isolation_value\"])\n",
    "        .pipe(Filter.min_lepton_number)\n",
    "        .pipe(Filter.neutral_charge)\n",
    "        .pipe(plot_masses, filter_name=r\"Nach $p_T^{\\mathrm{min}}$ \\& relative Isolation Filter\")\n",
    ")\n",
    "\n",
    "clear_previous_used_hists()\n",
    "_ = (\n",
    "    dfs\n",
    "        .pipe(plot_masses, filter_name=\"Ungefiltert\", show_plot=False)\n",
    "        .pipe(Filter.relative_isolation_of_lepton, relative_isolation_value=filter_arguments[\"relative_isolation_value\"])\n",
    "        .pipe(Filter.min_lepton_number)\n",
    "        .pipe(Filter.neutral_charge)\n",
    "        .pipe(plot_masses, filter_name=r\"Nach minimum $p_T$ Filter ($p_T^{\\mathrm{min}}$)\", show_plot=False)\n",
    "        .pipe(Filter.min_pt_of_lepton, min_pt_electron=filter_arguments[\"min_pt_electron\"], min_pt_muon=filter_arguments[\"min_pt_muon\"])\n",
    "        .pipe(Filter.min_lepton_number)\n",
    "        .pipe(Filter.neutral_charge)\n",
    "        .pipe(plot_masses, filter_name=r\"Nach $p_T^{\\mathrm{min}}$ \\& relative Isolation Filter\")\n",
    ")"
   ]
  },
  {
   "cell_type": "markdown",
   "metadata": {},
   "source": [
    "---"
   ]
  },
  {
   "cell_type": "markdown",
   "metadata": {},
   "source": [
    "Zum Abschluss kann ein Filter auf die beiden Z-Bosonen Massen angewendet werden. Dieser Filter nutzt aus, dass das Z-Boson eine Resonanz bei einer Masse von $91\\, \\mathrm{GeV}/c^2$ hat. Die Anwendung des ersten Filters auf die Masse des $Z_1$-Boson Kandidaten geht davon aus, dass das gefundene Z-Boson in der Nähe dieser Resonanz liegt. Wenn das Higgs-Boson in zwei Z-Bosonen zerfällt, wird erwartet, dass das zweite Z-Boson eine geringere invariante Masse als $91, \\mathrm{GeV}/c^2$ hat, um additiv im Bereich der Higgs-Boson-Masse von $125\\,\\mathrm{GeV}/c^2$ zu sein. Der Filter auf die Masse des $Z_2$-Bosons kann entsprechend so eingestellt werden, dass diese kleiner und damit virtuell ist. Dadurch werden insbesondere Ereignisse unterdrückt, bei denen zwei reelle Z-Bosonen entstehen, sowie Ereignisse mit zwei virtuellen Z-Bosonen. Dies führt zu einer stärkeren Reduzierung des Untergrunds im Vergleich zum Signal.\n",
    "\n",
    "<div class=\"alert alert-info\">\n",
    "    Wähle passende Werte für die minimalen und maximalen $Z_1$ und $Z_2$ Massen aus. Das Fenster der $Z_1$-Bosonen Masse kann hierbei etwa $60\\,\\mathrm{GeV}/c^2$ um die nominale Z-Boson Masse annehmen.\n",
    "    Wende diesen Filter auf Signal und Untergrundsimulation einzeln und in Kombination mit den vorherigen Filtern an (Da diese Filter nicht einzelne Leptonen, rausfiltert, ist ein anschließendes Anwenden von dem `min_lepton_number` und `neutral_charge` Filter nicht notwendig).\n",
    "    Entfernt dieser Filter tatsächlich die Untergrundereignisse als Signalereignisse?\n",
    "</div>"
   ]
  },
  {
   "cell_type": "code",
   "execution_count": null,
   "metadata": {},
   "outputs": [],
   "source": [
    "filter_arguments[\"z1_mass_min\"] = 40 \n",
    "filter_arguments[\"z1_mass_max\"] = 120\n",
    "filter_arguments[\"z2_mass_min\"] = 12\n",
    "filter_arguments[\"z2_mass_max\"] = 60\n",
    "\n",
    "pprint(filter_arguments)\n",
    "\n",
    "clear_previous_used_hists()\n",
    "_ = (\n",
    "    dfb\n",
    "        .pipe(plot_masses, filter_name=\"Ungefiltert\", show_plot=False)\n",
    "        .pipe(Filter.min_pt_of_lepton, min_pt_electron=filter_arguments[\"min_pt_electron\"], min_pt_muon=filter_arguments[\"min_pt_muon\"])\n",
    "        .pipe(Filter.min_lepton_number)\n",
    "        .pipe(Filter.neutral_charge)\n",
    "        .pipe(plot_masses, filter_name=r\"Nach minimum $p_T$ ($p_T^{\\mathrm{min}}$) Filter\", show_plot=False)\n",
    "        .pipe(Filter.relative_isolation_of_lepton, relative_isolation_value=filter_arguments[\"relative_isolation_value\"])\n",
    "        .pipe(Filter.min_lepton_number)\n",
    "        .pipe(Filter.neutral_charge)\n",
    "        .pipe(plot_masses, filter_name=r\"Nach $p_T^{\\mathrm{min}}$ \\& relative Isolation (relIso) Filter\", show_plot=False)\n",
    "        .pipe(\n",
    "            Filter.z_masses, \n",
    "            z1_mass_min=filter_arguments[\"z1_mass_min\"], \n",
    "            z1_mass_max=filter_arguments[\"z1_mass_max\"], \n",
    "            z2_mass_min=filter_arguments[\"z2_mass_min\"], \n",
    "            z2_mass_max=filter_arguments[\"z2_mass_max\"],\n",
    "        )\n",
    "        .pipe(plot_masses, filter_name=r\"Nach $p_T^{\\mathrm{min}}$ \\& relIso \\& $Z_{1,2}^{\\mathrm{min/max}}$ Filter\")\n",
    ")\n",
    "\n",
    "clear_previous_used_hists()\n",
    "_ = (\n",
    "    dfs\n",
    "        .pipe(plot_masses, filter_name=\"Ungefiltert\", show_plot=False)\n",
    "        .pipe(Filter.min_pt_of_lepton, min_pt_electron=filter_arguments[\"min_pt_electron\"], min_pt_muon=filter_arguments[\"min_pt_muon\"])\n",
    "        .pipe(Filter.min_lepton_number)\n",
    "        .pipe(Filter.neutral_charge)\n",
    "        .pipe(plot_masses, filter_name=r\"Nach minimum $p_T$ ($p_T^{\\mathrm{min}}$) Filter\", show_plot=False)\n",
    "        .pipe(Filter.relative_isolation_of_lepton, relative_isolation_value=filter_arguments[\"relative_isolation_value\"])\n",
    "        .pipe(Filter.min_lepton_number)\n",
    "        .pipe(Filter.neutral_charge)\n",
    "        .pipe(plot_masses, filter_name=r\"Nach $p_T^{\\mathrm{min}}$ \\& relative Isolation (relIso) Filter\", show_plot=False)\n",
    "        .pipe(\n",
    "            Filter.z_masses, \n",
    "            z1_mass_min=filter_arguments[\"z1_mass_min\"], \n",
    "            z1_mass_max=filter_arguments[\"z1_mass_max\"], \n",
    "            z2_mass_min=filter_arguments[\"z2_mass_min\"], \n",
    "            z2_mass_max=filter_arguments[\"z2_mass_max\"],\n",
    "        )\n",
    "        .pipe(plot_masses, filter_name=r\"Nach $p_T^{\\mathrm{min}}$ \\& relIso \\& $Z_{1,2}^{\\mathrm{min/max}}$ Filter\")\n",
    ")"
   ]
  },
  {
   "cell_type": "markdown",
   "metadata": {},
   "source": [
    "Nach der Wahl der Filtergrenzen sollten diese endgültig auf die Datensätze, inklusive der tatsächlichen Messung, angewendet werden, ohne sie noch einmal zu ändern. Es empfiehlt sich, eine Kopie dieses Datensatzes zu erstellen, um den ursprünglichen Datensatz zu erhalten. Wenn die Datensätze groß sind, kann dies RAM belegen, der nicht zur Verfügung steht. Da die hier verwendeten Datensätze eine überschaubare Größe haben können wir es aber problemlos machen.\n",
    "\n",
    "Die Anwendung der implementierten Filter auf die simulierten Datensätze erfolgt wie bereits oben skizziert und durchgeführt. Es sollten alle implementierten Filter auf den Signal- und Untergrunddatensatz sowie auf die durchgeführte Messung (übernächste Code Zelle) angewendet werden. Falls einige Filter ausgelassen oder zusätzliche Filter im Verlauf erstellt wurden, können diese wie oben beschrieben für die drei Datensätze hinzugefügt werden."
   ]
  },
  {
   "cell_type": "code",
   "execution_count": null,
   "metadata": {},
   "outputs": [],
   "source": [
    "dfb_processed = (\n",
    "    dfb\n",
    "        .pipe(Filter.min_pt_of_lepton, min_pt_electron=filter_arguments[\"min_pt_electron\"], min_pt_muon=filter_arguments[\"min_pt_muon\"])\n",
    "        .pipe(Filter.min_lepton_number)\n",
    "        .pipe(Filter.neutral_charge)\n",
    "        .pipe(Filter.relative_isolation_of_lepton, relative_isolation_value=filter_arguments[\"relative_isolation_value\"])\n",
    "        .pipe(Filter.min_lepton_number)\n",
    "        .pipe(Filter.neutral_charge)\n",
    "        .pipe(\n",
    "            Filter.z_masses, \n",
    "            z1_mass_min=filter_arguments[\"z1_mass_min\"], \n",
    "            z1_mass_max=filter_arguments[\"z1_mass_max\"], \n",
    "            z2_mass_min=filter_arguments[\"z2_mass_min\"], \n",
    "            z2_mass_max=filter_arguments[\"z2_mass_max\"],\n",
    "        )\n",
    ")\n",
    "\n",
    "dfs_processed = (\n",
    "    dfs\n",
    "        .pipe(Filter.min_pt_of_lepton, min_pt_electron=filter_arguments[\"min_pt_electron\"], min_pt_muon=filter_arguments[\"min_pt_muon\"])\n",
    "        .pipe(Filter.min_lepton_number)\n",
    "        .pipe(Filter.neutral_charge)\n",
    "        .pipe(Filter.relative_isolation_of_lepton, relative_isolation_value=filter_arguments[\"relative_isolation_value\"])\n",
    "        .pipe(Filter.min_lepton_number)\n",
    "        .pipe(Filter.neutral_charge)\n",
    "        .pipe(\n",
    "            Filter.z_masses, \n",
    "            z1_mass_min=filter_arguments[\"z1_mass_min\"], \n",
    "            z1_mass_max=filter_arguments[\"z1_mass_max\"], \n",
    "            z2_mass_min=filter_arguments[\"z2_mass_min\"], \n",
    "            z2_mass_max=filter_arguments[\"z2_mass_max\"],\n",
    "        )\n",
    ")"
   ]
  },
  {
   "cell_type": "markdown",
   "metadata": {},
   "source": [
    "Nachdem alle Filter auf den simulierten Datensatz angewendet wurden, ist es Zeit nun die Filter auf die tatsächliche Messunganzuwenden. Bei den Effekten der einzelnen Filterschritte wird eine kleine Änderung in der Darstellung vorgenommen: eine Aufteilung der y-Achsen Skala in zwei Teile. Der untere Teil hat eine lineare Skala von 0 bis zu einem bestimmten Wert, den wir als `yedge` bezeichnen. Der obere Teil der y-Achse hat eine logarithmische Skala, die von `yedge` bis unendlich geht. Wir wählen diese Darstellung, weil die Filter auf den Messdaten einen viel stärkeren Effekt haben und schnell viele Größenordnungen an Messdaten herausfiltern. Die logarithmische Skala eignet sich hierfür gut, wie oben bereits verwendet und gezeigt wurde. Wenn jedoch nur wenige Ereignisse vorliegen, kann zur einer besseren Darstellung eine lineare Skala verwendet werden. Wenn dies nicht gewünscht ist, kann in `plotting_dict` der Eintrag `\"yedge\": None` gesetzt werden."
   ]
  },
  {
   "cell_type": "code",
   "execution_count": null,
   "metadata": {},
   "outputs": [],
   "source": [
    "plotting_dict = {\"four_lep_bins\": 15, \"four_lep_range\": (106, 151), \"show_z1_and_z2_mass\": False, \"xdim\": 7, \"yedge\": 9.9} \n",
    "\n",
    "pprint(filter_arguments)\n",
    "\n",
    "clear_previous_used_hists()\n",
    "dfm_processed = (\n",
    "    dfm\n",
    "        .pipe(plot_masses, filter_name=\"Ungefiltert\", show_plot=False, **plotting_dict)\n",
    "        .pipe(Filter.min_pt_of_lepton, min_pt_electron=filter_arguments[\"min_pt_electron\"], min_pt_muon=filter_arguments[\"min_pt_muon\"])\n",
    "        .pipe(Filter.min_lepton_number)\n",
    "        .pipe(Filter.neutral_charge)\n",
    "        .pipe(plot_masses, filter_name=r\"Nach minimum $p_T$ ($p_T^{\\mathrm{min}}$) Filter\", show_plot=False, **plotting_dict)\n",
    "        .pipe(Filter.relative_isolation_of_lepton, relative_isolation_value=filter_arguments[\"relative_isolation_value\"])\n",
    "        .pipe(Filter.min_lepton_number)\n",
    "        .pipe(Filter.neutral_charge)\n",
    "        .pipe(plot_masses, filter_name=r\"Nach $p_T^{\\mathrm{min}}$ \\& relative Isolation (relIso) Filter\", show_plot=False, **plotting_dict)\n",
    "        .pipe(\n",
    "            Filter.z_masses, \n",
    "            z1_mass_min=filter_arguments[\"z1_mass_min\"], \n",
    "            z1_mass_max=filter_arguments[\"z1_mass_max\"], \n",
    "            z2_mass_min=filter_arguments[\"z2_mass_min\"], \n",
    "            z2_mass_max=filter_arguments[\"z2_mass_max\"],\n",
    "        )\n",
    "        .pipe(plot_masses, filter_name=r\"Nach $p_T^{\\mathrm{min}}$ \\& relIso \\& $Z_{1,2}^{\\mathrm{min/max}}$ Filter\", **plotting_dict)\n",
    ")"
   ]
  },
  {
   "cell_type": "markdown",
   "metadata": {},
   "source": [
    "\n",
    "Kommen wir nun zum Vergleich zwischen den simulierten - erwarteten Datensätzen - und der durchgeführten Messung. Die Idee hierzu ist, dass die simulierten Datensätze an die Luminosität (dem Datenumfang der Messung) und dem jeweiligen Zerfallskanal (vier Myonen, vier Elektronen oder zwei Elektronen und zwei Myonen) skaliert werden, da diese in der Regel viel mehr Ereignisse enthalten, um eine bessere Beschreibung der Erwartung zu erhalten. Diese Skalierung ist nicht schwer, jedoch kann diese übersprungen werden, da nichts Spannendes dort passiert. Aus diesem Grund habe ich dir das abgenommen. Die Hilfsfunktion `plot_mc_data_comparison` ist ebenfalls in der Datei mit den Hilfsfunktionen enthalten.\n",
    "\n",
    "\n",
    "Kommen wir jetzt zum Vergleich zwischen den simulierten - erwarteten Datensätzen - und der durchgeführten Messung. Es ist wichtig, einen Vergleich zwischen Simulation und Messung durchzuführen, da wir durch die Simulation eine erwartete Verteilung der Ereignisse haben. Der Vergleich hilft uns zu verstehen, ob unsere Simulation den tatsächlichen Messdaten entspricht oder ob wir Änderungen an unserer Simulation vornehmen müssen. Da die Simulationen anhand der uns bekannten physikalischen Prozessen durchgeführt wird, hilft dieser Vergleich die uns bekannte Theorie über die fundamentalen Teilchen und deren Wechselwirkungen zu verbessern.\n",
    "\n",
    "Eine Skalierung der simulierten Datensätze an die Luminosität und den Zerfallskanal ist wichtig, um eine genauere Beschreibung der erwarteten Verteilung zu erhalten. Eine explizite Durchführung der Skalierung ist jedoch nicht notwendig. Die grundlegende Idee hierzu ist, dass die simulierten Datensätze an die Luminosität (dem Datenumfang der Messung) und dem jeweiligen Zerfallskanal (vier Myonen, vier Elektronen oder zwei Elektronen und zwei Myonen) einzeln skaliert werden, in diesem Fall, nachdem die Histogramme der einzelnen Zerfallskanäle gebildet wurden. Dies ist jedoch keine wirklich spannende Aufgabe und wird deshalb in der Hilfsfunktion automatisch ausgeführt. \n",
    "\n",
    "Die Darstellung erfolgt über die Hilfsfunktion `plot_mc_data_comparison` welche in der Datei mit den Hilfsfunktionen enthalten ist und gibt neben der Darstellung auch die Einträge der Histogramme von dem erwarteten Untergrund aus der Simulation und der tatsächlichen Messung. Die Einträge des Histogramms von dem erwarteten Signal werden nicht zurückgegeben, da es als nächste Aufgabe zu bestimmen ist, ob das beobachtete Signal überhaupt signifikant ist. Aus diesem Grund wird für die Bestimmung der Anzahl der beobachteten Signalereignisse die Differenz zwischen er durchgeführten Messung und dem erwarteten Untergrund bestimmt. Die Verwendung der Untergrunderwartung ist an dieser Stelle im Gegensatz zu der Signalerwartung möglich, da der Untergrund bereits aus anderen Experimenten bestätigt wurde.\n",
    "<div class=\"alert alert-info\">\n",
    "    An welcher Stelle gibt es Überschüsse von dem erwarteten Untergrund?\n",
    "    Sind alle Überschüsse im Rahmen ihrer Unsicherheit noch kompatibel mit dem erwarteten Untergrund?\n",
    "</div>"
   ]
  },
  {
   "cell_type": "code",
   "execution_count": null,
   "metadata": {},
   "outputs": [],
   "source": [
    "from utils import plot_mc_data_comparison\n",
    "bkg_sim_bins, data_bins = plot_mc_data_comparison(dfm_processed, dfs_processed, dfb_processed)"
   ]
  },
  {
   "cell_type": "markdown",
   "metadata": {},
   "source": [
    "Die Beurteilung, ob die beobachtete Überhöhung, welche durch die Signalerwartung erklärt werden kann, überhaupt signifikant ist und ob sie tatsächlich auf ein Higgs-artiges Boson mit einer Masse von 125 GeV zurückzuführen ist, ist der letzte Teil des Notebooks. Die Frage nach der Signifikanz ist der Teilchenphysik zentral und gilt zu beantworten, wenn beispielsweise neue Teilchen oder Prozesse beobachtet werden und ob diese nicht auch durch die Fluktuation des Untergrundes erklärt werden können. Eine Abschätzung der Signifikanz kann als die Abweichung der beobachteten Messung von dem erwarteten Untergrund in Einheiten der Standardabweichung angegeben. Der Grundgedanke ist, dass eine große Abweichung der Messung vom erwarteten Untergrund signifikanter ist als eine kleine Abweichung.\n",
    "\n",
    "Ein grober Schätzwert für die Signifikanz kann durch die Formel $Z = \\frac{s}{\\sqrt{b}}$ berechnet werden. Hierbei steht $s$ für die Anzahl der beobachteten Signalereignisse und $b$ für die Anzahl der erwarteten Untergrundereignisse verwendet. Entsprechend ist $\\sqrt{b}$ die Unsicherheit auf den Untergrund, da es sich um ein Poisson Prozess handelt. Wie oben beschrieben, wird die Anzahl der Signalereignisse über die Differenz zwischen der Anzahl an beobachteten Ereignissen und dem erwarteten Untergrund bestimmt. Wenn der erwartete Untergrund sehr hoch ist, wird die Beobachtung einer signifikanten Abweichung schwieriger sein als bei einem geringeren Untergrund, da die Unsicherheit auf den Untergrund dominieren wird, wodurch das Verhältnis klein wird. Wie oben bei der Darstellung zu sehen ist, kann der Signalprozess aber deutlich von dem Untergrund unterschieden werden, was der Vorteil von dem $\\mathrm{H}\\rightarrow ZZ\\rightarrow 4\\ell$ Zerfallskanal ist. Dies ist auch der Grund, warum dieser Zerfallskanal, trotz seiner geringen Wahrscheinlichkeit im Vergleich zu anderen Zerfallskanälen eine wichtige Rolle bei der Entdeckung des Higgs Bosons gespielt hat.\n",
    "\n",
    "Eine Signifikanz von $3\\sigma$ gilt in der Teilchenphysik als ein Hinweis auf einen möglichen neuen Prozess oder Teilchen, während ab $5\\sigma$ von einer Entdeckung gesprochen wird. Bei der Entdeckung des Higgs Bosons wurden für das Erreichen der $5\\sigma$ Grenze hierbei mehrere Zerfallskanäle kombiniert.\n",
    "\n",
    "<div class=\"alert alert-info\">\n",
    "    Ist der beobachtete Überschuss in der Messung, der durch ein Higgs Boson von Masse $125\\,\\mathrm{GeV}/c^2$ erkärt werden kann, signifikant?\n",
    "    Wie groß ist diese Signifikanz? Kann hier schon von einer Entdeckung gesprochen werden?\n",
    "    Wie kann die Signifikanz verbessert werden?\n",
    "    Spielt die Wahl der Grenzen des Histogramms und der Anzahl der Bins eine Rolle bei der Bestimmung der Signifikanz, wie sie oben definiert ist?\n",
    "</div>\n",
    "\n",
    "Die Fragen können ebenfalls in eine Weiterführende Diskussion übergeführt werden."
   ]
  },
  {
   "cell_type": "code",
   "execution_count": null,
   "metadata": {},
   "outputs": [],
   "source": [
    "(data_bins.sum() - bkg_sim_bins.sum()) / np.sqrt(bkg_sim_bins.sum())"
   ]
  }
 ],
 "metadata": {
  "interpreter": {
   "hash": "c9d678d600903246ce2abce432a5cb67b8d0faf2e3fe570b60b353d1170e510f"
  },
  "kernelspec": {
   "display_name": "Python 3 (ipykernel)",
   "language": "python",
   "name": "python3"
  },
  "language_info": {
   "codemirror_mode": {
    "name": "ipython",
    "version": 3
   },
   "file_extension": ".py",
   "mimetype": "text/x-python",
   "name": "python",
   "nbconvert_exporter": "python",
   "pygments_lexer": "ipython3",
   "version": "3.7.12"
  }
 },
 "nbformat": 4,
 "nbformat_minor": 4
}
